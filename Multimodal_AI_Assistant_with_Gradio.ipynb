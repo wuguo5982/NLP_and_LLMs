{
 "cells": [
  {
   "cell_type": "markdown",
   "id": "127ddf79",
   "metadata": {},
   "source": [
    "# Healthcare AI Assistant with Multimodal + Insurance Tool Support\n",
    "\n",
    "This Jupyter Notebook demonstrates how to build an AI-powered **healthcare assistant** using OpenAI's GPT-4o model.  \n",
    "The assistant is capable of:\n",
    "\n",
    "- Responding to patient or provider questions about EHR, CPT/ICD codes, and health insurance claims\n",
    "- Using simulated tools for **CPT/ICD-10 lookup** and **Medicare/Medicaid insurance coverage**\n",
    "- Processing **images** (e.g., medical records, screenshots) via OpenAI's **multimodal** capabilities\n",
    "- Deploying an interactive chatbot interface using **Gradio**\n",
    "\n",
    "The assistant mimics a real-world scenario where AI augments healthcare workflows by answering coverage, diagnosis, or billing-related questions efficiently and accurately.\n"
   ]
  },
  {
   "cell_type": "code",
   "execution_count": 1,
   "id": "860801dc",
   "metadata": {},
   "outputs": [],
   "source": [
    "import os\n",
    "import json\n",
    "from dotenv import load_dotenv\n",
    "from openai import OpenAI\n",
    "import gradio as gr"
   ]
  },
  {
   "cell_type": "code",
   "execution_count": 2,
   "id": "53cbf995",
   "metadata": {},
   "outputs": [
    {
     "name": "stdout",
     "output_type": "stream",
     "text": [
      "OpenAI API Key loaded: sk-orYYT******\n"
     ]
    }
   ],
   "source": [
    "# Initialization\n",
    "load_dotenv(override=True)\n",
    "\n",
    "openai_api_key = os.getenv('OPENAI_API_KEY')\n",
    "if openai_api_key:\n",
    "    print(f\"OpenAI API Key loaded: {openai_api_key[:8]}******\")\n",
    "else:\n",
    "    print(\"OpenAI API Key is not set.\")\n",
    "\n",
    "MODEL = \"gpt-4o\"\n",
    "openai = OpenAI()\n"
   ]
  },
  {
   "cell_type": "code",
   "execution_count": 3,
   "id": "12f3b65d",
   "metadata": {},
   "outputs": [],
   "source": [
    "# System message\n",
    "system_message = (\n",
    "    \"You are a helpful and medically accurate AI assistant specialized in healthcare. \"\n",
    "    \"You can analyze text, images (e.g., EHR screenshots or forms), and structured claims data. \"\n",
    "    \"Answer questions about electronic health records (EHR), health insurance claims, CPT codes, coverage, and patient support. \"\n",
    "    \"Be concise, professional, and cite medical guidelines if known. If you are unsure, say so clearly.\"\n",
    ")"
   ]
  },
  {
   "cell_type": "code",
   "execution_count": 4,
   "id": "37dc2e0e",
   "metadata": {},
   "outputs": [],
   "source": [
    "# CPT/ICD-10 lookup tool\n",
    "def lookup_code(code):\n",
    "    code = code.strip().upper()\n",
    "    sample_codes = {\n",
    "        \"99213\": \"Office or other outpatient visit for the evaluation and management of an established patient\",\n",
    "        \"E11.9\": \"Type 2 diabetes mellitus without complications\",\n",
    "        \"Z00.00\": \"General adult medical examination without abnormal findings\"\n",
    "    }\n",
    "    return sample_codes.get(code, \"Code not found. Please verify the CPT or ICD-10 code.\")"
   ]
  },
  {
   "cell_type": "code",
   "execution_count": 5,
   "id": "e4165b87",
   "metadata": {},
   "outputs": [],
   "source": [
    "# Medicare/Medicaid coverage simulation tool\n",
    "def check_insurance_coverage(query):\n",
    "    coverage_info = {\n",
    "        \"diabetes screening\": \"Medicare Part B covers diabetes screening tests if you have risk factors such as high blood pressure, history of abnormal cholesterol, obesity, or a family history of diabetes. Up to 2 screenings per year are covered at no cost.\",\n",
    "        \"colonoscopy\": \"Medicare Part B covers screening colonoscopies once every 24 months (if high risk) or every 10 years (if not high risk).\",\n",
    "        \"flu shot\": \"Medicare covers one flu shot per season with no copay if the provider accepts assignment.\",\n",
    "        \"cpt 99495\": \"CPT 99495 (transitional care management services) is usually covered by Medicare and many private insurers when conditions are met, including communication within 2 business days of discharge and a face-to-face visit within 14 days.\"\n",
    "    }\n",
    "\n",
    "    key = query.lower()\n",
    "    for k in coverage_info:\n",
    "        if k in key:\n",
    "            return f\"[Insurance Coverage Info]\\n{k.title()}: {coverage_info[k]}\"\n",
    "    return \"Coverage information not found. Please verify the procedure or service name.\""
   ]
  },
  {
   "cell_type": "code",
   "execution_count": 6,
   "id": "c0e6940b",
   "metadata": {},
   "outputs": [],
   "source": [
    "# Chat function with tools\n",
    "def chat_with_tool(prompt):\n",
    "    prompt_upper = prompt.upper()\n",
    "    if any(code in prompt_upper for code in [\"99213\", \"E11.9\", \"Z00.00\"]):\n",
    "        parts = prompt_upper.split()\n",
    "        found_codes = [code for code in parts if code in [\"99213\", \"E11.9\", \"Z00.00\"]]\n",
    "        if found_codes:\n",
    "            tool_result = \"\\n\".join([f\"{code}: {lookup_code(code)}\" for code in found_codes])\n",
    "            return f\"[From CPT/ICD Lookup Tool]\\n{tool_result}\"\n",
    "\n",
    "    coverage_response = check_insurance_coverage(prompt)\n",
    "    if \"not found\" not in coverage_response:\n",
    "        return coverage_response\n",
    "\n",
    "    messages = [\n",
    "        {\"role\": \"system\", \"content\": system_message},\n",
    "        {\"role\": \"user\", \"content\": prompt}\n",
    "    ]\n",
    "    response = openai.chat.completions.create(\n",
    "        model=MODEL,\n",
    "        messages=messages,\n",
    "        temperature=0.3\n",
    "    )\n",
    "    return response.choices[0].message.content\n"
   ]
  },
  {
   "cell_type": "code",
   "execution_count": null,
   "id": "c2b8e5b3",
   "metadata": {},
   "outputs": [],
   "source": [
    "# Multimodal image + text understanding\n",
    "def analyze_image_and_text(image, question):\n",
    "    base64_img = None\n",
    "    if image:\n",
    "        import base64\n",
    "        from PIL import Image\n",
    "        from io import BytesIO\n",
    "\n",
    "        buffered = BytesIO()\n",
    "        image.save(buffered, format=\"PNG\")\n",
    "        base64_img = base64.b64encode(buffered.getvalue()).decode()\n",
    "\n",
    "    messages = [{\"role\": \"system\", \"content\": system_message}]\n",
    "    if question:\n",
    "        messages.append({\"role\": \"user\", \"content\": question})\n",
    "    if base64_img:\n",
    "        messages.append({\"role\": \"user\", \"content\": [{\"type\": \"image_url\", \"image_url\": {\"url\": f\"data:image/png;base64,{base64_img}\"}}]})\n",
    "\n",
    "    response = openai.chat.completions.create(\n",
    "        model=MODEL,\n",
    "        messages=messages\n",
    "    )\n",
    "    return response.choices[0].message.content"
   ]
  },
  {
   "cell_type": "code",
   "execution_count": 8,
   "id": "cdb3e049",
   "metadata": {},
   "outputs": [
    {
     "name": "stdout",
     "output_type": "stream",
     "text": [
      "* Running on local URL:  http://127.0.0.1:7861\n",
      "\n",
      "To create a public link, set `share=True` in `launch()`.\n"
     ]
    },
    {
     "data": {
      "text/html": [
       "<div><iframe src=\"http://127.0.0.1:7861/\" width=\"100%\" height=\"500\" allow=\"autoplay; camera; microphone; clipboard-read; clipboard-write;\" frameborder=\"0\" allowfullscreen></iframe></div>"
      ],
      "text/plain": [
       "<IPython.core.display.HTML object>"
      ]
     },
     "metadata": {},
     "output_type": "display_data"
    },
    {
     "data": {
      "text/plain": []
     },
     "execution_count": 8,
     "metadata": {},
     "output_type": "execute_result"
    }
   ],
   "source": [
    "# Gradio Interface\n",
    "import gradio as gr\n",
    "\n",
    "with gr.Blocks() as demo:\n",
    "    gr.Markdown(\"## 🏥 Healthcare AI Assistant with CPT/ICD Tool and Multimodal Support\")\n",
    "\n",
    "    with gr.Tab(\"Chat with Text\"):\n",
    "        text_input = gr.Textbox(label=\"Ask a question (EHR, claims, insurance, CPT codes)\")\n",
    "        text_output = gr.Textbox(label=\"Response\")\n",
    "        text_button = gr.Button(\"Submit\")\n",
    "        text_button.click(fn=chat_with_tool, inputs=text_input, outputs=text_output)\n",
    "\n",
    "    with gr.Tab(\"Chat with Image + Question\"):\n",
    "        img_input = gr.Image(label=\"Upload medical image or screenshot\", type=\"pil\")\n",
    "        img_question = gr.Textbox(label=\"Ask a question about the image (optional)\")\n",
    "        img_output = gr.Textbox(label=\"Response\")\n",
    "        gr.Button(\"Analyze\").click(fn=analyze_image_and_text, inputs=[img_input, img_question], outputs=img_output)\n",
    "\n",
    "demo.launch()\n"
   ]
  },
  {
   "cell_type": "markdown",
   "id": "95788409",
   "metadata": {},
   "source": [
    "---\n",
    "\n",
    "## Summary\n",
    "\n",
    "In this project, we've created a robust healthcare AI assistant that integrates:\n",
    "-  **Text-based medical Q&A**\n",
    "-  **Tool augmentation** with CPT/ICD-10 and insurance coverage lookups\n",
    "-  **Image understanding** with multimodal GPT-4o\n",
    "-  **Interactive chatbot** powered by Gradio\n",
    "\n",
    "Applications: we can expand this assistant by connecting to:\n",
    "- Real-time ICD/CPT APIs (e.g., CMS, AMA)\n",
    "- Electronic Health Record (EHR) systems via FHIR/HL7\n",
    "- External payer databases (for up-to-date coverage info)\n",
    "\n",
    "This notebook provides a strong foundation for building practical, AI-powered assistants for healthcare, claims analysis, and patient support.\n",
    "\n",
    "Feel free to modify, deploy, or extend it for your own use cases!\n"
   ]
  }
 ],
 "metadata": {
  "kernelspec": {
   "display_name": "llms",
   "language": "python",
   "name": "python3"
  },
  "language_info": {
   "codemirror_mode": {
    "name": "ipython",
    "version": 3
   },
   "file_extension": ".py",
   "mimetype": "text/x-python",
   "name": "python",
   "nbconvert_exporter": "python",
   "pygments_lexer": "ipython3",
   "version": "3.11.13"
  }
 },
 "nbformat": 4,
 "nbformat_minor": 5
}

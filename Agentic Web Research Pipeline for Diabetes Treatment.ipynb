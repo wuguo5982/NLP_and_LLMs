{
 "cells": [
  {
   "cell_type": "markdown",
   "id": "05ba507d",
   "metadata": {},
   "source": [
    "\n",
    "# Web Search Agents — *Diabetes Treatment* \n",
    "\n",
    "This notebook is about **Diabetes treatment**, it includes:\n",
    "- A **Search Agent** that runs a focused web search and produces a concise medical summary.\n",
    "- A **Planner Agent** that generates multiple search queries covering distinct angles (drugs, devices, trials, guidelines, lifestyle)."
   ]
  },
  {
   "cell_type": "markdown",
   "id": "f9aa8c1b",
   "metadata": {},
   "source": [
    "\n",
    "## Environment Setup & Notes\n",
    "\n",
    "- Loads environment variables for any search API keys if your `WebSearchTool` needs them.\n",
    "- Uses your sample's API surface (`Agent`, `WebSearchTool`, `Runner`, `trace`, etc.).\n",
    "- The **Search Agent** is concise by design (2–3 paragraphs, 300 words max).\n",
    "- The **Planner Agent** returns a structured list of search queries via a Pydantic model.\n"
   ]
  },
  {
   "cell_type": "code",
   "execution_count": 17,
   "id": "d65fd0db",
   "metadata": {},
   "outputs": [
    {
     "data": {
      "text/plain": [
       "True"
      ]
     },
     "execution_count": 17,
     "metadata": {},
     "output_type": "execute_result"
    }
   ],
   "source": [
    "\n",
    "# If you use .env for keys (optional)\n",
    "from dotenv import load_dotenv\n",
    "load_dotenv(override=True)\n"
   ]
  },
  {
   "cell_type": "markdown",
   "id": "27c9204d",
   "metadata": {},
   "source": [
    "\n",
    "## 1) Imports\n",
    "\n",
    "- `Agent`: defines a tool-using LLM agent\n",
    "- `WebSearchTool`: executes web searches\n",
    "- `Runner`: runs an agent with a message\n",
    "- `trace`: optional tracing context manager for observability\n",
    "- `ModelSettings`: configure tool choice behavior\n",
    "- `BaseModel`/`Field`: define Pydantic schemas for planner output\n"
   ]
  },
  {
   "cell_type": "code",
   "execution_count": 18,
   "id": "93680685",
   "metadata": {},
   "outputs": [],
   "source": [
    "\n",
    "from agents import Agent, WebSearchTool, trace, Runner, gen_trace_id, function_tool\n",
    "from agents.model_settings import ModelSettings\n",
    "from pydantic import BaseModel, Field\n",
    "from typing import List\n",
    "from IPython.display import display, Markdown\n"
   ]
  },
  {
   "cell_type": "markdown",
   "id": "1c920128",
   "metadata": {},
   "source": [
    "\n",
    "## 2) Search Agent (concise medical summary)\n",
    "\n",
    "**Goal:** Given a diabetes-treatment query, search the web and produce a **concise 2–3 paragraph summary (≤300 words)**.  \n",
    "**Scope:** Prioritize peer‑reviewed evidence, clinical guidelines (e.g., ADA), FDA approvals, pivotal trials, and technology (CGM, pumps, closed-loop).\n"
   ]
  },
  {
   "cell_type": "code",
   "execution_count": 19,
   "id": "727e6758",
   "metadata": {},
   "outputs": [],
   "source": [
    "\n",
    "SEARCH_INSTRUCTIONS = \"\"\"\n",
    "You are a medical research assistant. Given a search term about diabetes treatment,\n",
    "search the web and produce a concise 2–3 paragraph summary (max 300 words).\n",
    "Focus on: (1) new therapies and mechanisms, (2) clinical trial outcomes,\n",
    "(3) FDA approvals and safety notes, and (4) current treatment guidelines.\n",
    "Be specific and avoid speculation or marketing claims. Cite sources inline as [Site, Year] when available.\n",
    "\"\"\"\n",
    "\n",
    "search_agent = Agent(\n",
    "    name=\"DiabetesTreatmentSearchAgent\",\n",
    "    instructions=SEARCH_INSTRUCTIONS,\n",
    "    tools=[WebSearchTool(search_context_size=\"low\")],  # keep cost small; raise to \"medium/high\" if needed\n",
    "    model=\"gpt-4o-mini\",\n",
    "    model_settings=ModelSettings(tool_choice=\"required\"),\n",
    ")\n"
   ]
  },
  {
   "cell_type": "markdown",
   "id": "7bdf466a",
   "metadata": {},
   "source": [
    "\n",
    "### Example — Quick Search\n",
    "Change `message` to any query you want (e.g., *\"GLP‑1/GIP updates 2025\"*, *\"Type 1 closed-loop systems 2025\"*, *\"ADA Standards of Care insulin titration\"*).\n"
   ]
  },
  {
   "cell_type": "code",
   "execution_count": 20,
   "id": "f62ea804",
   "metadata": {},
   "outputs": [
    {
     "data": {
      "text/markdown": [
       "As of August 2025, significant advancements in diabetes treatment have emerged across various domains, including novel therapies, technological innovations, and updated clinical guidelines.\n",
       "\n",
       "**New Therapies and Mechanisms**\n",
       "\n",
       "The FDA has approved Novo Nordisk's Ozempic (semaglutide) for reducing the risk of diabetic kidney disease progression, marking it as the first GLP-1 receptor agonist approved for this indication. Clinical trials demonstrated a 24% reduction in the risk of death from chronic kidney disease and major cardiovascular events. ([reuters.com](https://www.reuters.com/business/healthcare-pharmaceuticals/us-fda-approves-novo-nordisks-diabetes-drug-reduce-risk-worsening-kidney-disease-2025-01-28/?utm_source=openai))\n",
       "\n",
       "In the realm of weight management, Eli Lilly's oral GLP-1 receptor agonist, orforglipron, has shown promising results in clinical trials, offering effective blood sugar control and weight loss comparable to injectable therapies, without serious side effects. If approved, it could be the first oral GLP-1 drug for weight loss, enhancing accessibility and affordability. ([time.com](https://time.com/7278429/weight-loss-obesity-pill-eli-lilly/?utm_source=openai))\n",
       "\n",
       "**Clinical Trial Outcomes**\n",
       "\n",
       "The REDEFINE 1 and REDEFINE 2 Phase III clinical trials evaluated the combination of cagrilintide and semaglutide in individuals with obesity and type 2 diabetes. Results indicated that the combination therapy led to a 13.7% weight loss over 68 weeks, compared to 3.1% with placebo, highlighting its potential as an effective weight management strategy. ([en.wikipedia.org](https://en.wikipedia.org/wiki/Cagrilintide/semaglutide?utm_source=openai))\n",
       "\n",
       "**FDA Approvals and Safety Notes**\n",
       "\n",
       "In February 2025, the FDA approved insulin aspart-szjj, a biosimilar to Novolog, for medical use in the United States. This approval introduces a more affordable option for patients requiring rapid-acting insulin therapy. ([en.wikipedia.org](https://en.wikipedia.org/wiki/Insulin_aspart?utm_source=openai))\n",
       "\n",
       "**Current Treatment Guidelines**\n",
       "\n",
       "The integration of artificial intelligence (AI) into continuous glucose monitoring (CGM) systems has been highlighted in recent conferences. AI-driven insights from CGMs have demonstrated significant improvements in glycemic control, suggesting a shift towards more personalized and efficient diabetes management strategies. ([drugtopics.com](https://www.drugtopics.com/view/ai-driven-cgm-insights-improved-glycemic-control-ada-2025?utm_source=openai))\n",
       "\n",
       "These developments underscore a dynamic landscape in diabetes care, emphasizing personalized treatment approaches, technological integration, and innovative therapies to enhance patient outcomes.\n",
       "\n",
       "\n",
       "## Recent Developments in Diabetes Treatment:\n",
       "- [Canada approves Ozempic to reduce risk of diabetic kidney disease progression](https://www.reuters.com/business/healthcare-pharmaceuticals/canada-approves-ozempic-reduce-risk-diabetic-kidney-disease-progression-2025-08-19/?utm_source=openai)\n",
       "- [Health Rounds: 3D printed insulin-producing cells show promise for type 1 diabetes in lab tests](https://www.reuters.com/business/healthcare-pharmaceuticals/health-rounds-3d-printed-insulin-producing-cells-show-promise-type-1-diabetes-2025-07-02/?utm_source=openai)\n",
       "- [US FDA approves Novo Nordisk's Ozempic to cut risk of diabetic kidney disease progression](https://www.reuters.com/business/healthcare-pharmaceuticals/us-fda-approves-novo-nordisks-diabetes-drug-reduce-risk-worsening-kidney-disease-2025-01-28/?utm_source=openai) "
      ],
      "text/plain": [
       "<IPython.core.display.Markdown object>"
      ]
     },
     "metadata": {},
     "output_type": "display_data"
    }
   ],
   "source": [
    "\n",
    "import asyncio\n",
    "\n",
    "# Example message\n",
    "message = \"Latest advancements in diabetes treatment 2025\"\n",
    "\n",
    "async def run_search():\n",
    "    # Run with trace for observability (optional).\n",
    "    with trace(\"DiabetesSearch\"):\n",
    "        result = await Runner.run(search_agent, message)\n",
    "    # Display final condensed output\n",
    "    display(Markdown(result.final_output))\n",
    "\n",
    "# Execute inside the Jupyter event loop\n",
    "await run_search()\n"
   ]
  },
  {
   "cell_type": "markdown",
   "id": "c223dbe3",
   "metadata": {},
   "source": [
    "\n",
    "## 3) Planner Agent (multi-angle coverage)\n",
    "\n",
    "**Goal:** Generate multiple complementary searches that cover different angles of **Diabetes treatment**.  \n",
    "Use cases: seed a broader investigation, fan out to guidelines, drugs, devices, and lifestyle.\n"
   ]
  },
  {
   "cell_type": "code",
   "execution_count": 21,
   "id": "91da58be",
   "metadata": {},
   "outputs": [],
   "source": [
    "\n",
    "# Configurable number of distinct searches\n",
    "HOW_MANY_SEARCHES = 4\n",
    "\n",
    "PLANNER_INSTRUCTIONS = f\"\"\"\n",
    "You are a helpful research planner. Given a query on diabetes treatment,\n",
    "generate {HOW_MANY_SEARCHES} distinct web searches to cover the topic comprehensively.\n",
    "Each search must focus on a different angle, choosing from:\n",
    "- Pharmacotherapy (GLP-1, GIP, SGLT2, insulin analogs, fixed-ratio combos)\n",
    "- Devices/technology (CGM, insulin pumps, closed-loop systems)\n",
    "- Clinical guidelines & care standards (e.g., ADA Standards of Care 2025)\n",
    "- Clinical trials/meta-analyses (efficacy, safety, outcomes)\n",
    "- Lifestyle/behavioral interventions (nutrition, weight management, remission protocols)\n",
    "- Special populations (pediatrics, pregnancy, CKD, CVD)\n",
    "Return succinct reasons for each search.\n",
    "\"\"\"\n",
    "\n",
    "class WebSearchItem(BaseModel):\n",
    "    reason: str = Field(description=\"Why this search matters for diabetes treatment\")\n",
    "    query: str = Field(description=\"Concrete search query to run\")\n",
    "\n",
    "class WebSearchPlan(BaseModel):\n",
    "    searches: List[WebSearchItem] = Field(description=\"List of complementary searches\")\n",
    "    \n",
    "planner_agent = Agent(\n",
    "    name=\"DiabetesTreatmentPlannerAgent\",\n",
    "    instructions=PLANNER_INSTRUCTIONS,\n",
    "    model=\"gpt-4o-mini\",\n",
    "    output_type=WebSearchPlan,\n",
    ")\n"
   ]
  },
  {
   "cell_type": "markdown",
   "id": "eb9b8543",
   "metadata": {},
   "source": [
    "\n",
    "### Example — Produce a Search Plan\n",
    "Adjust `planner_message` to set your topic focus.\n"
   ]
  },
  {
   "cell_type": "code",
   "execution_count": 22,
   "id": "2c100986",
   "metadata": {},
   "outputs": [
    {
     "data": {
      "text/markdown": [
       "### Suggested Diabetes Treatment Searches\n",
       "\n",
       "**1.** `latest pharmacotherapy options for diabetes treatment 2023`  \n",
       "*Why:* To understand the most recent pharmacological advancements in diabetes treatment, including new medications and updated guidelines.\n",
       "**2.** `diabetes management technology updates 2023`  \n",
       "*Why:* To explore how emerging technologies, such as continuous glucose monitors and insulin pumps, are improving diabetes management and patient outcomes.\n",
       "**3.** `ADA Standards of Care diabetes 2025 updates`  \n",
       "*Why:* To review the latest clinical guidelines for diabetes care, focusing on the ADA Standards of Care updates for 2025.\n",
       "**4.** `recent clinical trials diabetes treatment safety efficacy 2023`  \n",
       "*Why:* To examine recent findings from clinical trials and meta-analyses regarding the safety and efficacy of new diabetes treatments."
      ],
      "text/plain": [
       "<IPython.core.display.Markdown object>"
      ]
     },
     "metadata": {},
     "output_type": "display_data"
    }
   ],
   "source": [
    "\n",
    "import asyncio\n",
    "\n",
    "planner_message = \"Diabetes treatment updates and standards of care\"\n",
    "\n",
    "async def run_plan():\n",
    "    # Run planner (async)\n",
    "    res = await Runner.run(planner_agent, planner_message)\n",
    "    plan = res.final_output\n",
    "\n",
    "    # Support either Pydantic model or plain dict output\n",
    "    searches = getattr(plan, \"searches\", None)\n",
    "    if searches is None and isinstance(plan, dict):\n",
    "        searches = plan.get(\"searches\", [])\n",
    "    if searches is None:\n",
    "        searches = []\n",
    "\n",
    "    # Pretty print as Markdown\n",
    "    plan_md = [\"### Suggested Diabetes Treatment Searches\", \"\"]\n",
    "    for i, item in enumerate(searches, 1):\n",
    "        query = getattr(item, \"query\", item.get(\"query\") if isinstance(item, dict) else None)\n",
    "        reason = getattr(item, \"reason\", item.get(\"reason\") if isinstance(item, dict) else None)\n",
    "        plan_md.append(f\"**{i}.** `{query}`  \\n*Why:* {reason}\")\n",
    "    display(Markdown(\"\\n\".join(plan_md)))\n",
    "\n",
    "await run_plan()\n"
   ]
  },
  {
   "cell_type": "markdown",
   "id": "3ebb1cf1",
   "metadata": {},
   "source": [
    "\n",
    "## 4) Run the Plan Automatically\n",
    "\n",
    "This helper will take the **planner output**, run each search via the **Search Agent**, and concatenate concise summaries.\n"
   ]
  },
  {
   "cell_type": "code",
   "execution_count": 23,
   "id": "442a9d14",
   "metadata": {},
   "outputs": [
    {
     "data": {
      "text/markdown": [
       "#### latest updates GLP-1 GIP SGLT2 insulin analogs diabetes treatment\n",
       "\n",
       "Recent advancements in diabetes treatment have introduced several innovative therapies targeting GLP-1, GIP, SGLT2, and insulin analogs. Tirzepatide, a dual GLP-1 and GIP receptor agonist, has demonstrated significant efficacy in managing type 2 diabetes. Clinical trials have shown that tirzepatide reduces HbA1c levels and body weight more effectively than semaglutide, a GLP-1 receptor agonist. Additionally, tirzepatide has been associated with a 38% reduction in major cardiovascular complications compared to placebo in individuals with obesity and heart failure with preserved ejection fraction. ([en.wikipedia.org](https://en.wikipedia.org/wiki/Tirzepatide?utm_source=openai))\n",
       "\n",
       "The American Diabetes Association (ADA) has updated its 2025 Standards of Care to emphasize the benefits of GLP-1 receptor agonists and SGLT2 inhibitors in patients with type 2 diabetes. The guidelines recommend these medications for individuals with established or high risk of atherosclerotic cardiovascular disease, heart failure, or chronic kidney disease. The ADA also highlights the importance of shared decision-making and individualized treatment plans. ([drugtopics.com](https://www.drugtopics.com/view/ada-updates-diabetes-treatment-guidelines-to-reelect-benefits-of-glp-1/american-pharmacists-month?utm_source=openai))\n",
       "\n",
       "In the realm of insulin therapy, insulin icodec, a once-weekly basal insulin analog, has shown promise. A phase 3a trial demonstrated that insulin icodec provided a greater reduction in HbA1c levels compared to daily insulin glargine U100, with a similar safety profile. This long-acting insulin aims to improve patient adherence and glycemic control. ([onlinelibrary.wiley.com](https://onlinelibrary.wiley.com/doi/10.1002/kjm2.12800?utm_source=openai))\n",
       "\n",
       "Combining GLP-1 receptor agonists with SGLT2 inhibitors has been associated with improved glycemic control, weight reduction, and cardiovascular benefits. A meta-analysis indicated that this combination therapy led to significant improvements in HbA1c levels, body weight, and systolic blood pressure compared to monotherapy. However, the combination may increase the risk of adverse effects such as vomiting and diarrhea. ([jabfm.org](https://www.jabfm.org/content/37/3/372?utm_source=openai))\n",
       "\n",
       "These developments underscore the evolving landscape of diabetes treatment, focusing on personalized and combination therapies to enhance patient outcomes. \n",
       "\n",
       "---\n",
       "\n",
       "#### diabetes treatment technology updates CGM insulin pumps 2023\n",
       "\n",
       "In 2023, significant advancements in diabetes treatment technologies, particularly in continuous glucose monitoring (CGM) and insulin pumps, have enhanced the management of diabetes. The FDA cleared Abbott's FreeStyle Libre 2 and 3 sensors for integration with automated insulin delivery (AID) systems, allowing real-time insulin adjustments based on glucose data. These sensors are now approved for use by children as young as two years old and can be worn for up to 15 days. ([abbott.mediaroom.com](https://abbott.mediaroom.com/2023-03-06-U-S-FDA-Clears-Abbotts-FreeStyle-Libre-R-2-and-FreeStyle-Libre-R-3-Sensors-for-Integration-with-Automated-Insulin-Delivery-Systems?utm_source=openai))\n",
       "\n",
       "Beta Bionics received FDA clearance for its iLet ACE Pump and iLet Dosing Decision Software in May 2023. This system, when paired with a compatible CGM, forms the iLet Bionic Pancreas, an automated insulin dosing system that utilizes an algorithm for personalized insulin delivery. The device is approved for individuals aged six and older with type 1 diabetes. ([techtarget.com](https://www.techtarget.com/pharmalifesciences/feature/FDA-approved-insulin-pumps-used-for-insulin-pump-therapy?utm_source=openai))\n",
       "\n",
       "Roche's Accu-Chek Solo Micropump System, approved in August 2023, is a tubeless patch pump that integrates the insulin pump, infusion set, and reservoir into a single device, simplifying insulin therapy management. ([techtarget.com](https://www.techtarget.com/pharmalifesciences/feature/FDA-approved-insulin-pumps-used-for-insulin-pump-therapy?utm_source=openai))\n",
       "\n",
       "Additionally, the FDA approved donislecel (Lantidra) in June 2023, a cellular therapy medication for adults with type 1 diabetes who experience severe hypoglycemia despite intensive management. Donislecel is an allogeneic pancreatic islet cellular therapy administered via intravenous infusion. ([en.wikipedia.org](https://en.wikipedia.org/wiki/Donislecel?utm_source=openai))\n",
       "\n",
       "These developments reflect a trend toward more integrated and personalized diabetes care, aiming to improve glycemic control and quality of life for individuals with diabetes. \n",
       "\n",
       "---\n",
       "\n",
       "#### ADA Standards of Care 2025 diabetes treatment overview\n",
       "\n",
       "The American Diabetes Association's (ADA) 2025 Standards of Care provide comprehensive, evidence-based guidelines for diagnosing and managing diabetes and prediabetes. These guidelines emphasize a person-centered approach, integrating the latest scientific research to enhance health outcomes.\n",
       "\n",
       "**New Therapies and Mechanisms**\n",
       "\n",
       "The 2025 Standards introduce several significant updates:\n",
       "\n",
       "- **Continuous Glucose Monitoring (CGM) for Type 2 Diabetes**: For the first time, CGM is recommended for adults with type 2 diabetes, including those not on insulin therapy. This approach aims to improve glycemic control and reduce complications. ([diabetes.org](https://diabetes.org/newsroom/press-releases/american-diabetes-association-releases-standards-care-diabetes-2025?utm_source=openai))\n",
       "\n",
       "- **GLP-1 Receptor Agonists**: The guidelines highlight the use of GLP-1 receptor agonists not only for weight management but also for their benefits in heart and kidney health. ([diabetes.org](https://diabetes.org/newsroom/press-releases/american-diabetes-association-releases-standards-care-diabetes-2025?utm_source=openai))\n",
       "\n",
       "- **Weight Management Pharmacotherapy**: Recommendations now include the continuation of weight management medications beyond achieving weight loss goals to maintain health benefits and prevent weight regain. ([diabetesjournals.org](https://diabetesjournals.org/care/article/48/Supplement_1/S6/157564?utm_source=openai))\n",
       "\n",
       "**Clinical Trial Outcomes**\n",
       "\n",
       "The ADA's recommendations are grounded in recent clinical trials:\n",
       "\n",
       "- **CGM in Type 2 Diabetes**: Studies have demonstrated that CGM use can reduce the risk of serious complications, including diabetic ketoacidosis, severe hypoglycemia, and hospitalizations for hyperglycemia. ([diatribe.org](https://diatribe.org/diabetes-management/your-guide-2025-ada-standards-care?utm_source=openai))\n",
       "\n",
       "- **GLP-1 Receptor Agonists**: Clinical evidence supports the efficacy of GLP-1 receptor agonists in improving glycemic control and providing cardiovascular and renal benefits. ([diabetes.org](https://diabetes.org/newsroom/press-releases/american-diabetes-association-releases-standards-care-diabetes-2025?utm_source=openai))\n",
       "\n",
       "**FDA Approvals and Safety Notes**\n",
       "\n",
       "The 2025 Standards incorporate recent FDA approvals and safety considerations:\n",
       "\n",
       "- **GLP-1 Receptor Agonists**: The FDA has approved several GLP-1 receptor agonists for weight management and cardiovascular risk reduction. ([diabetes.org](https://diabetes.org/newsroom/press-releases/american-diabetes-association-releases-standards-care-diabetes-2025?utm_source=openai))\n",
       "\n",
       "- **Weight Management Pharmacotherapy**: The guidelines emphasize the importance of monitoring for side effects and provide guidance on the safe use of weight management medications. ([diabetesjournals.org](https://diabetesjournals.org/care/article/48/Supplement_1/S6/157564?utm_source=openai))\n",
       "\n",
       "**Current Treatment Guidelines**\n",
       "\n",
       "The ADA's 2025 Standards of Care outline the following key treatment strategies:\n",
       "\n",
       "- **Person-Centered Care**: Treatment decisions should be timely, evidence-based, and made collaboratively with individuals, considering their preferences, prognoses, comorbidities, and financial considerations. ([guidelinecentral.com](https://www.guidelinecentral.com/guideline/14119/?utm_source=openai))\n",
       "\n",
       "- **Integrated Care Models**: Approaches should align with evidence-based care models that emphasize team-based care, integrated long-term treatment of diabetes and comorbidities, and ongoing communication and goal setting. ([guidelinecentral.com](https://www.guidelinecentral.com/guideline/14119/?utm_source=openai))\n",
       "\n",
       "- **Monitoring and Support**: Regular monitoring of obesity-related measurements and continued support for individuals who have achieved weight loss goals are crucial for maintaining health benefits. ([diabetesjournals.org](https://diabetesjournals.org/care/article/48/Supplement_1/S6/157564?utm_source=openai))\n",
       "\n",
       "These guidelines aim to provide healthcare professionals with actionable strategies to improve the care and outcomes of individuals with diabetes. \n",
       "\n",
       "---\n",
       "\n",
       "#### recent clinical trials diabetes treatment efficacy safety 2023\n",
       "\n",
       "Recent clinical trials have evaluated the efficacy and safety of various diabetes treatments, leading to significant findings:\n",
       "\n",
       "**Once-Weekly Insulin Regimens:** A systematic review and network meta-analysis published in January 2024 assessed the impact of once-weekly insulin regimens on glycemic control in type 2 diabetes patients. The study concluded that these regimens are effective in managing blood sugar levels, offering a potential alternative to daily insulin injections. However, the analysis also highlighted the need for careful monitoring of patients to ensure optimal outcomes. ([dmsjournal.biomedcentral.com](https://dmsjournal.biomedcentral.com/articles/10.1186/s13098-023-01240-5?utm_source=openai))\n",
       "\n",
       "**SGLT-2 Inhibitors and Diabetic Ketoacidosis (DKA):** A systematic review and network meta-analysis published in 2023 examined the risk of DKA associated with SGLT-2 inhibitors in type 2 diabetes patients. The findings indicated that while these medications are generally safe, there is a slight increase in the risk of DKA, particularly in certain patient populations. The study emphasized the importance of patient selection and monitoring to mitigate this risk. ([frontiersin.org](https://www.frontiersin.org/journals/pharmacology/articles/10.3389/fphar.2023.1145587/full?utm_source=openai))\n",
       "\n",
       "**GLP-1 Receptor Agonists in Prediabetes:** A systematic review and meta-analysis published in 2024 evaluated the efficacy and safety of GLP-1 receptor agonists in individuals with prediabetes. The study found that these medications effectively reduce the progression to type 2 diabetes and improve glycemic control. Safety profiles were favorable, with a low incidence of adverse effects. ([dmsjournal.biomedcentral.com](https://dmsjournal.biomedcentral.com/articles/10.1186/s13098-024-01371-3?utm_source=openai))\n",
       "\n",
       "These findings underscore the ongoing advancements in diabetes treatment, highlighting the importance of personalized therapy and vigilant monitoring to optimize patient outcomes. "
      ],
      "text/plain": [
       "<IPython.core.display.Markdown object>"
      ]
     },
     "metadata": {},
     "output_type": "display_data"
    }
   ],
   "source": [
    "import asyncio\n",
    "\n",
    "async def run_plan_and_summarize(plan: WebSearchPlan):\n",
    "    \"\"\"\n",
    "    Run each planner query with search_agent and return a concatenated Markdown string.\n",
    "    Accepts either a Pydantic object with .searches or a dict with ['searches'].\n",
    "    \"\"\"\n",
    "    # Normalize searches\n",
    "    searches = getattr(plan, \"searches\", None)\n",
    "    if searches is None and isinstance(plan, dict):\n",
    "        searches = plan.get(\"searches\", [])\n",
    "    if not searches:\n",
    "        return \"_No searches to run._\"\n",
    "\n",
    "    outputs = []\n",
    "    for item in searches:\n",
    "        query = getattr(item, \"query\", item.get(\"query\") if isinstance(item, dict) else None)\n",
    "        if not query:\n",
    "            continue\n",
    "        with trace(f\"Search: {query}\"):\n",
    "            res = await Runner.run(search_agent, query)\n",
    "        outputs.append(f\"#### {query}\\n\\n{res.final_output}\")\n",
    "    return \"\\n\\n---\\n\\n\".join(outputs)\n",
    "\n",
    "# Example: get a fresh plan and summarize (do NOT call run_plan(), it doesn't return a value)\n",
    "plan_res = await Runner.run(planner_agent, planner_message)\n",
    "combined = await run_plan_and_summarize(plan_res.final_output)\n",
    "display(Markdown(combined))\n"
   ]
  },
  {
   "cell_type": "markdown",
   "id": "8e0334a7",
   "metadata": {},
   "source": [
    "\n",
    "## 5) Summary & Next Steps\n",
    "\n",
    "- We have:\n",
    "  1) A **Search Agent** that produces concise summaries of diabetes-treatment topics.\n",
    "  2) A **Planner Agent** that proposes complementary searches to ensure coverage.\n",
    "- Tweak knobs:\n",
    "  - `search_context_size`: `\"low\"` → `\"medium\"`/`\"high\"` to broaden retrieval (higher cost).\n",
    "  - `HOW_MANY_SEARCHES`: number of planner suggestions.\n",
    "  - Instruction prompts for stricter tone (e.g., enforce citation style or word limits).\n",
    "\n",
    "**Tip:** For production, consider adding:\n",
    "- Caching of search results\n",
    "- Source deduplication and quality filters (e.g., prioritize guideline bodies and peer‑reviewed journals)\n",
    "- Safety checks for medical claims\n",
    "- Cost/latency tracing and budgets\n"
   ]
  },
  {
   "cell_type": "markdown",
   "id": "41ba26fa",
   "metadata": {},
   "source": [
    "\n",
    "## 6) Email Agent (compose HTML & send)\n",
    "\n",
    "This section imitates the pattern in your `lab4.ipynb`:\n",
    "- A **tool** (`send_email`) that uses SendGrid to actually send mail.\n",
    "- An **Email Agent** that takes a **markdown report** and outputs a subject + HTML body.\n",
    "- A small **pipeline** that: *(plan → search → write report → compose email → send)*.\n",
    "\n",
    "> Replace the `FROM_EMAIL` and `TO_EMAIL` with your own verified addresses.  \n",
    "> Ensure `SENDGRID_API_KEY` is available in your environment (e.g., in `.env`).\n"
   ]
  },
  {
   "cell_type": "code",
   "execution_count": 24,
   "id": "9b14009a",
   "metadata": {},
   "outputs": [],
   "source": [
    "\n",
    "import os\n",
    "from typing import Dict\n",
    "from pydantic import BaseModel, Field\n",
    "from IPython.display import Markdown, display\n",
    "\n",
    "# Tooling: SendGrid (optional; you can swap to your own email backend)\n",
    "try:\n",
    "    import sendgrid\n",
    "    from sendgrid.helpers.mail import Mail, Email, To, Content\n",
    "    _HAS_SENDGRID = True\n",
    "except Exception as _e:\n",
    "    _HAS_SENDGRID = False\n",
    "    print(\"SendGrid not installed; email sending will be a no-op unless you install `sendgrid`.\", _e)\n",
    "\n",
    "\n",
    "FROM_EMAIL = os.environ.get(\"FROM_EMAIL\", \"wuguo5982.com\")   # <--- change to your verified sender\n",
    "TO_EMAIL = os.environ.get(\"TO_EMAIL\", \"wuguochen@gmail.com\")       # <--- change to your recipient\n"
   ]
  },
  {
   "cell_type": "code",
   "execution_count": 25,
   "id": "d458d694",
   "metadata": {},
   "outputs": [],
   "source": [
    "\n",
    "# Register a function tool for sending email (matches your sample's style)\n",
    "from agents import function_tool\n",
    "\n",
    "@function_tool\n",
    "def send_email(subject: str, html_body: str) -> Dict[str, str]:\n",
    "    \"\"\"Send an email using SendGrid. Returns a status dict.\"\"\"\n",
    "    if not _HAS_SENDGRID:\n",
    "        return {\"status\": \"skipped\", \"reason\": \"sendgrid not installed\"}\n",
    "    api_key = os.environ.get(\"SENDGRID_API_KEY\")\n",
    "    if not api_key:\n",
    "        return {\"status\": \"skipped\", \"reason\": \"SENDGRID_API_KEY is missing\"}\n",
    "    sg = sendgrid.SendGridAPIClient(api_key=api_key)\n",
    "    content = Content(\"text/html\", html_body)\n",
    "    mail = Mail(Email(FROM_EMAIL), To(TO_EMAIL), subject, content).get()\n",
    "    resp = sg.client.mail.send.post(request_body=mail)\n",
    "    return {\"status\": \"success\", \"code\": getattr(resp, 'status_code', None)}\n"
   ]
  },
  {
   "cell_type": "code",
   "execution_count": 26,
   "id": "f2efd37e",
   "metadata": {},
   "outputs": [],
   "source": [
    "\n",
    "# Email composer agent — converts Markdown to a professional HTML email + subject\n",
    "from agents import Agent\n",
    "from agents.model_settings import ModelSettings\n",
    "\n",
    "EMAIL_INSTRUCTIONS = \"\"\"\n",
    "You are an email composition assistant. Given a Markdown report about diabetes treatment,\n",
    "draft a clear, professional email:\n",
    "- Write a concise, informative subject line\n",
    "- Convert the Markdown into clean HTML\n",
    "- Keep tone neutral, factual, and suitable for clinicians or analysts\n",
    "Return your output strictly as a JSON object with keys:\n",
    "  - subject (string)\n",
    "  - html (string, HTML content)\n",
    "No additional commentary.\n",
    "\"\"\"\n",
    "\n",
    "class EmailOutput(BaseModel):\n",
    "    subject: str = Field(description=\"Email subject line\")\n",
    "    html: str = Field(description=\"Email HTML body\")\n",
    "\n",
    "\n",
    "email_agent = Agent(\n",
    "    name=\"EmailAgent\",\n",
    "    instructions=EMAIL_INSTRUCTIONS,\n",
    "    model=\"gpt-4o-mini\",\n",
    "    model_settings=ModelSettings(tool_choice=\"auto\"),\n",
    "    output_type=EmailOutput,\n",
    "    tools=[send_email],  # the LLM can choose to call send_email or just return the JSON\n",
    ")\n"
   ]
  },
  {
   "cell_type": "code",
   "execution_count": 27,
   "id": "41fc279c",
   "metadata": {},
   "outputs": [],
   "source": [
    "\n",
    "# Writer agent — produces a structured Markdown report from search results\n",
    "WRITER_INSTRUCTIONS = \"\"\"\n",
    "You are a medical writer. Write a concise, structured **Markdown report** about diabetes treatment\n",
    "based on provided summarized search results. Structure:\n",
    "- Title\n",
    "- Key Takeaways (3–6 bullets)\n",
    "- New/Updated Therapies (short bullets)\n",
    "- Devices/Tech (CGM, pumps, closed-loop)\n",
    "- Guidelines & Safety (ADA or others)\n",
    "- References: list names of sources and year in brackets\n",
    "Limit to ~400–600 words. Avoid speculation.\n",
    "\"\"\"\n",
    "\n",
    "writer_agent = Agent(\n",
    "    name=\"WriterAgent\",\n",
    "    instructions=WRITER_INSTRUCTIONS,\n",
    "    model=\"gpt-4o-mini\",\n",
    "    model_settings=ModelSettings(tool_choice=\"auto\"),\n",
    ")\n"
   ]
  },
  {
   "cell_type": "code",
   "execution_count": 28,
   "id": "10cc0e90",
   "metadata": {},
   "outputs": [],
   "source": [
    "\n",
    "# Report container\n",
    "class ReportData(BaseModel):\n",
    "    markdown_report: str\n"
   ]
  },
  {
   "cell_type": "code",
   "execution_count": 29,
   "id": "712dc579",
   "metadata": {},
   "outputs": [],
   "source": [
    "\n",
    "# Helper pipeline functions (sync to match earlier Runner.run usage)\n",
    "\n",
    "def plan_searches(query: str):\n",
    "    \"\"\"Use the planner agent to suggest distinct searches.\"\"\"\n",
    "    res = Runner.run(planner_agent, query)\n",
    "    return res.final_output\n",
    "\n",
    "def write_report(query: str, search_results: list[str]):\n",
    "    \"\"\"Use the writer agent to write a Markdown report from search results.\"\"\"\n",
    "    input_text = f\"Original query: {query}\\nSummarized search results: {search_results}\"\n",
    "    res = Runner.run(writer_agent, input_text)\n",
    "    return res.final_output\n",
    "\n",
    "def compose_and_send_email(markdown_report: str):\n",
    "    \"\"\"Use the email agent to generate subject/HTML and (optionally) send.\"\"\"\n",
    "    res = Runner.run(email_agent, markdown_report)\n",
    "    # Try to send via the tool (if the model didn't already call it)\n",
    "    try:\n",
    "        if isinstance(res.final_output, dict) and {\"subject\", \"html\"}.issubset(res.final_output.keys()):\n",
    "            send_status = send_email(res.final_output[\"subject\"], res.final_output[\"html\"])\n",
    "        else:\n",
    "            # If output typed, access attributes\n",
    "            send_status = send_email(res.final_output.subject, res.final_output.html)\n",
    "    except Exception as e:\n",
    "        send_status = {\"status\": \"error\", \"reason\": str(e)}\n",
    "    return res.final_output, send_status\n"
   ]
  },
  {
   "cell_type": "markdown",
   "id": "3745cb2c",
   "metadata": {},
   "source": [
    "\n",
    "### Example — End‑to‑End: plan → search → report → email\n",
    "\n",
    "> This runs a small plan, searches with the **Search Agent**, writes a report, then composes & (optionally) sends an email.\n"
   ]
  },
  {
   "cell_type": "code",
   "execution_count": 30,
   "id": "13f049c2",
   "metadata": {},
   "outputs": [
    {
     "data": {
      "text/markdown": [
       "# Diabetes Treatment Update (2025)\n",
       "\n",
       "## Key Takeaways\n",
       "- Advanced pharmacotherapy has expanded options for managing diabetes, especially for type 2 diabetes patients with additional health conditions.\n",
       "- New therapies like oral GLP-1 receptor agonists and biosimilar insulins are enhancing treatment adherence and affordability.\n",
       "- Continuous glucose monitor (CGM) technologies and closed-loop systems are transforming diabetes management, promoting better glycemic control.\n",
       "\n",
       "## New/Updated Therapies\n",
       "- **GLP-1 Receptor Agonists**: Expanded indications for cardiovascular risk reduction and renal protection; now recommended for patients with type 2 diabetes, chronic kidney disease, obesity, heart failure, and nonalcoholic fatty liver disease.\n",
       "- **SGLT2 Inhibitors**: Recommended for patients with heart failure and chronic kidney disease with added cardiovascular benefits.\n",
       "- **Biosimilar Insulin**: FDA approved insulin aspart-szjj, the first short-acting biosimilar insulin, introducing more affordable treatment options.\n",
       "\n",
       "## Devices/Tech\n",
       "- **Continuous Glucose Monitors (CGMs)**: The Dexcom G7 provides real-time glucose readings, integrated with the Omnipod 5 insulin pump, enhancing monitoring accuracy.\n",
       "- **Insulin Pumps**: Medtronic's MiniMed Fit and Beta Bionics' Mint insulin pumps are in development, focusing on improved convenience and wearability.\n",
       "- **Closed-Loop Systems**: Tandem Diabetes Care's Control-IQ+ system has shown significant improvements in glycemic control, with increased time in range and reduced HbA1c levels.\n",
       "\n",
       "## Guidelines & Safety\n",
       "- The **2025 American Diabetes Association (ADA) Standards of Care** promote personalized treatment strategies that prioritize safety and efficacy, particularly in high-risk patient populations, including those with cardiovascular and kidney diseases.\n",
       "- Continuous assessment and integration of new treatment options are emphasized to optimize patient outcomes.\n",
       "\n",
       "## References\n",
       "- diabetesincontrol.com (2025)\n",
       "- drugtopics.com (2025)\n",
       "- en.wikipedia.org (2025)\n",
       "- beyondtype1.org (2025)\n",
       "- diatribe.org (2025)"
      ],
      "text/plain": [
       "<IPython.core.display.Markdown object>"
      ]
     },
     "metadata": {},
     "output_type": "display_data"
    },
    {
     "name": "stdout",
     "output_type": "stream",
     "text": [
      "Email compose/send status: {'status': 'error', 'reason': \"'FunctionTool' object is not callable\"}\n"
     ]
    }
   ],
   "source": [
    "\n",
    "import asyncio\n",
    "\n",
    "async def run_end_to_end():\n",
    "    # 1) Plan queries (async planner)\n",
    "    topic = \"Diabetes treatment 2025 updates\"\n",
    "    plan_res = await Runner.run(planner_agent, topic)\n",
    "    plan = plan_res.final_output\n",
    "\n",
    "    # Normalize searches whether Pydantic object or plain dict\n",
    "    searches = getattr(plan, \"searches\", None)\n",
    "    if searches is None and isinstance(plan, dict):\n",
    "        searches = plan.get(\"searches\", [])\n",
    "    if searches is None:\n",
    "        searches = []\n",
    "\n",
    "    # 2) Run plan (short) — reuse Search Agent (await each search)\n",
    "    summaries = []\n",
    "    for item in searches[:2]:  # keep short for demo\n",
    "        query = getattr(item, \"query\", item.get(\"query\") if isinstance(item, dict) else None)\n",
    "        if not query:\n",
    "            continue\n",
    "        sr = await Runner.run(search_agent, query)\n",
    "        summaries.append(sr.final_output)\n",
    "\n",
    "    # 3) Write a Markdown report from the summaries (call writer directly, await)\n",
    "    input_text = f\"Original query: {topic}\\nSummarized search results: {summaries}\"\n",
    "    writer_res = await Runner.run(writer_agent, input_text)\n",
    "    md_report = writer_res.final_output\n",
    "    display(Markdown(md_report))\n",
    "\n",
    "    # 4) Compose email (await) and send via tool\n",
    "    email_res = await Runner.run(email_agent, md_report)\n",
    "    # Support dict or typed output\n",
    "    if isinstance(email_res.final_output, dict):\n",
    "        subj = email_res.final_output.get(\"subject\")\n",
    "        html = email_res.final_output.get(\"html\")\n",
    "    else:\n",
    "        subj = getattr(email_res.final_output, \"subject\", None)\n",
    "        html = getattr(email_res.final_output, \"html\", None)\n",
    "\n",
    "    send_status = {\"status\": \"skipped\", \"reason\": \"missing email content\"}\n",
    "    if subj and html:\n",
    "        try:\n",
    "            send_status = send_email(subj, html)\n",
    "        except Exception as e:\n",
    "            send_status = {\"status\": \"error\", \"reason\": str(e)}\n",
    "\n",
    "    print(\"Email compose/send status:\", send_status)\n",
    "\n",
    "await run_end_to_end()\n"
   ]
  },
  {
   "cell_type": "markdown",
   "id": "8a69e659",
   "metadata": {},
   "source": [
    "\n",
    "## 7) Other Agents\n",
    "\n",
    "Below are extra agents mirroring the style in your sample. They reuse the same `Agent(...)` pattern.\n"
   ]
  },
  {
   "cell_type": "code",
   "execution_count": 31,
   "id": "dcbf56be",
   "metadata": {},
   "outputs": [],
   "source": [
    "\n",
    "# SummarizerAgent — condense long text into bullets\n",
    "SUMMARIZER_INSTRUCTIONS = \"\"\"\n",
    "Summarize the provided text into 5–8 crisp bullets highlighting the most important clinical or technical points.\n",
    "Avoid redundancy. Keep each bullet single-line.\n",
    "\"\"\"\n",
    "\n",
    "summarizer_agent = Agent(\n",
    "    name=\"SummarizerAgent\",\n",
    "    instructions=SUMMARIZER_INSTRUCTIONS,\n",
    "    model=\"gpt-4o-mini\",\n",
    ")\n",
    "\n",
    "# FormatterAgent — reformat raw notes into a clean report style\n",
    "FORMATTER_INSTRUCTIONS = \"\"\"\n",
    "Reformat the raw notes into a clean, consistent Markdown brief with headings and bullets.\n",
    "Do not change factual content; only organize and clarify.\n",
    "\"\"\"\n",
    "\n",
    "formatter_agent = Agent(\n",
    "    name=\"FormatterAgent\",\n",
    "    instructions=FORMATTER_INSTRUCTIONS,\n",
    "    model=\"gpt-4o-mini\",\n",
    ")\n",
    "\n",
    "# NotifierAgent (stub) — could integrate with Slack via a tool (not implemented here)\n",
    "NOTIFIER_INSTRUCTIONS = \"\"\"\n",
    "Draft a one-paragraph notification suitable for Slack or Teams summarizing a new diabetes-treatment update.\n",
    "Keep it neutral and link-friendly. Return plain text only.\n",
    "\"\"\"\n",
    "\n",
    "notifier_agent = Agent(\n",
    "    name=\"NotifierAgent\",\n",
    "    instructions=NOTIFIER_INSTRUCTIONS,\n",
    "    model=\"gpt-4o-mini\",\n",
    ")\n"
   ]
  }
 ],
 "metadata": {
  "kernelspec": {
   "display_name": ".venv",
   "language": "python",
   "name": "python3"
  },
  "language_info": {
   "codemirror_mode": {
    "name": "ipython",
    "version": 3
   },
   "file_extension": ".py",
   "mimetype": "text/x-python",
   "name": "python",
   "nbconvert_exporter": "python",
   "pygments_lexer": "ipython3",
   "version": "3.12.3"
  }
 },
 "nbformat": 4,
 "nbformat_minor": 5
}

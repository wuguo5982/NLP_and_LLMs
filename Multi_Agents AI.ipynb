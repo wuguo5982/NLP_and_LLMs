{
 "cells": [
  {
   "cell_type": "markdown",
   "metadata": {},
   "source": [
    "### Multi-Agent LLM System for Web Search and Financial Data Analysis using AGNO Framework\n",
    "\n",
    "This Python script defines and executes a multi-agent system using the AGNO framework to analyze how high inflation impacts high-tech stocks.\n",
    "\n",
    "It sets up two specialized AI agents:\n",
    "\n",
    "1. Web Agent\n",
    "Uses the Groq-powered qwen-2.5-32b model and DuckDuckGoTools to search the internet for relevant information.\n",
    "\n",
    "2. Finance Agent\n",
    "Uses OpenAI's gpt-4o model with YFinanceTools to fetch."
   ]
  },
  {
   "cell_type": "code",
   "execution_count": 1,
   "metadata": {},
   "outputs": [],
   "source": [
    "# !pip install agno\n",
    "# !pip install dotenv\n",
    "# !pip install openai\n",
    "# !pip install groq\n",
    "# !pip install duckduckgo-search\n",
    "# !pip install yfinance\n",
    "# !pip install ipywidgets"
   ]
  },
  {
   "cell_type": "code",
   "execution_count": null,
   "metadata": {},
   "outputs": [],
   "source": [
    "\n",
    "import os\n",
    "from dotenv import load_dotenv\n",
    "from agno.agent import Agent\n",
    "from agno.models.openai import OpenAIChat\n",
    "from agno.models.groq import Groq\n",
    "from agno.tools.duckduckgo import DuckDuckGoTools\n",
    "from agno.tools.yfinance import YFinanceTools\n",
    "\n",
    "# Load environment variables from .env file\n",
    "load_dotenv()\n",
    "\n",
    "# Set API keys securely\n",
    "os.environ[\"OPENAI_API_KEY\"] = os.getenv(\"OPENAI_API_KEY\")\n",
    "os.environ[\"GROQ_API_KEY\"] = os.getenv(\"GROQ_API_KEY\")\n",
    "\n",
    "# Web Search Agent setup\n",
    "web_agent = Agent(\n",
    "    name=\"Web Agent\",\n",
    "    role=\"Search the web and retrieve relevant information\",\n",
    "    model=Groq(id=\"qwen-2.5-32b\"),\n",
    "    tools=[DuckDuckGoTools()],\n",
    "    instructions=\"Always cite the sources clearly.\",\n",
    "    show_tool_calls=True,\n",
    "    markdown=True,\n",
    ")\n",
    "\n",
    "# Financial Data Agent setup\n",
    "finance_agent = Agent(\n",
    "    name=\"Finance Agent\",\n",
    "    role=\"Fetch and clearly present financial market data\",\n",
    "    model=OpenAIChat(id=\"gpt-4o\"),\n",
    "    tools=[\n",
    "        YFinanceTools(\n",
    "            stock_price=True,\n",
    "            analyst_recommendations=True,\n",
    "            stock_fundamentals=True,\n",
    "            company_info=True\n",
    "        )\n",
    "    ],\n",
    "    instructions=\"Use tables to neatly display financial data.\",\n",
    "    show_tool_calls=True,\n",
    "    markdown=True,\n",
    ")\n",
    "\n",
    "# Combined Agent Team setup\n",
    "agent_team = Agent(\n",
    "    team=[web_agent, finance_agent],\n",
    "    model=Groq(id=\"qwen-2.5-32b\"),\n",
    "    instructions=[\n",
    "        \"Clearly cite all sources used.\",\n",
    "        \"Present all financial or numeric data using well-organized tables.\"\n",
    "    ],\n",
    "    show_tool_calls=True,\n",
    "    markdown=True,)"
   ]
  },
  {
   "cell_type": "code",
   "execution_count": null,
   "metadata": {},
   "outputs": [],
   "source": [
    "# Query the agent team\n",
    "agent_team.print_response(\n",
    "    \"What is the influence of high inflation on hi-tech stocks?\"\n",
    ")"
   ]
  },
  {
   "cell_type": "markdown",
   "metadata": {},
   "source": [
    "Output:\n"
   ]
  },
  {
   "cell_type": "markdown",
   "metadata": {},
   "source": [
    "**Message** <br>\n",
    "What is the influence of high inflation on hi-tech stocks?        "
   ]
  },
  {
   "cell_type": "markdown",
   "metadata": {},
   "source": [
    "**Tall Calls** <br>\n",
    " • transfer_task_to_web_agent(task_description=Find articles or analysis pieces that discuss the influence of high inflation on hi-tech stocks., expected_output=A list of web articles where each article is represented as a dictionary with keys 'title' and 'url'. There should be 5 such  articles.)                                                         \n",
    "                                                                                                                            "
   ]
  },
  {
   "cell_type": "markdown",
   "metadata": {},
   "source": [
    "**Responses** <br>\n",
    "                                                                                                                                                                                    ┃\n",
    "┃ I've gathered some articles that discuss the influence of high inflation on hi-tech stocks. Here they are:                                                                         ┃\n",
    "┃                                                                                                                                                                                    ┃\n",
    "┃  1 Title: Why Does Inflation Hurt High-Growth Tech Stocks?                                                                                                                         ┃\n",
    "┃    URL: Link                                                                                                                                                                       ┃\n",
    "┃    URL: Link                                                                                                                                                                       ┃\n",
    "┃  2 Title: Inflation's Impact On Tech Stocks                                                                                                                                        ┃\n",
    "┃    URL: Link                                                                                                                                                                       ┃\n",
    "┃    URL: Link                                                                                                                                                                       ┃\n",
    "┃    URL: Link                                                                                                                                                                       ┃\n",
    "┃  2 Title: Inflation's Impact On Tech Stocks                                                                                                                                        ┃\n",
    "┃    URL: Link                                                                                                                                                                       ┃\n",
    "┃  2 Title: Inflation's Impact On Tech Stocks                                                                                                                                        ┃\n",
    "┃    URL: Link                                                                                                                                                                       ┃\n",
    "┃  2 Title: Inflation's Impact On Tech Stocks                                                                                                                                        ┃\n",
    "┃    URL: Link                                                                                                                                                                       ┃\n",
    "┃  3 Title: Technology and Inflation: Focus on Productivity                                                                                                                          ┃\n",
    "┃    URL: Link                                                                                                                                                                       ┃\n",
    "┃  2 Title: Inflation's Impact On Tech Stocks                                                                                                                                        ┃\n",
    "┃    URL: Link                                                                                                                                                                       ┃\n",
    "┃  3 Title: Technology and Inflation: Focus on Productivity                                                                                                                          ┃\n",
    "┃  2 Title: Inflation's Impact On Tech Stocks                                                                                                                                        ┃\n",
    "┃    URL: Link                                                                                                                                                                       ┃\n",
    "┃    URL: Link                                                                                                                                                                       ┃\n",
    "┃  3 Title: Technology and Inflation: Focus on Productivity                                                                                                                          ┃\n",
    "┃    URL: Link                                                                                                                                                                       ┃\n",
    "┃  4 Title: Technology and Inflation: How They Influence Each Other, In The Short And Longer Term                                                                                    ┃\n",
    "┃    URL: Link                                                                                                                                                                       ┃\n",
    "┃  5 Title: Which Companies Are The Biggest Inflation Winners And Losers?                                                                                                            ┃\n",
    "┃    URL: Link                                                                                                                                                                       ┃\n",
    "┃  3 Title: Technology and Inflation: Focus on Productivity                                                                                                                          ┃\n",
    "┃    URL: Link                                                                                                                                                                       ┃\n",
    "┃  3 Title: Technology and Inflation: Focus on Productivity                                                                                                                          ┃\n",
    "┃    URL: Link                                                                                                                                                                       ┃\n",
    "┃  4 Title: Technology and Inflation: How They Influence Each Other, In The Short And Longer Term                                                                                    ┃\n",
    "┃  3 Title: Technology and Inflation: Focus on Productivity                                                                                                                          ┃\n",
    "┃    URL: Link                                                                                                                                                                       ┃\n",
    "┃  3 Title: Technology and Inflation: Focus on Productivity                                                                                                                          ┃\n",
    "┃    URL: Link                                                                                                                                                                       ┃\n",
    "┃    URL: Link                                                                                                                                                                       ┃\n",
    "┃  4 Title: Technology and Inflation: How They Influence Each Other, In The Short And Longer Term                                                                                    ┃\n",
    "┃    URL: Link                                                                                                                                                                       ┃\n",
    "┃  4 Title: Technology and Inflation: How They Influence Each Other, In The Short And Longer Term                                                                                    ┃\n",
    "┃    URL: Link                                                                                                                                                                       ┃\n",
    "┃    URL: Link                                                                                                                                                                       ┃\n",
    "┃  5 Title: Which Companies Are The Biggest Inflation Winners And Losers?                                                                                                            ┃\n",
    "┃    URL: Link                                                                                                                                                                       ┃\n",
    "┃  5 Title: Which Companies Are The Biggest Inflation Winners And Losers?                                                                                                            ┃\n",
    "┃    URL: Link                                                                                                                                                                       ┃\n",
    "┃    URL: Link                                                                                                                                                                       ┃\n",
    "┃                                                                                                                                                                                    ┃\n",
    "┃                                                                                                                                                                                    ┃\n",
    "┃ These sources discuss how high inflation can impact hi-tech stocks, affecting both their current and future valuations. The articles provide insights into how inflationary        ┃\n",
    "┃ pressures may influence investment decisions and the overall performance of the high-tech sector.                                                                                  ┃\n",
    "┃ pressures may influence investment decisions and the overall performance of the high-tech sector.  "
   ]
  }
 ],
 "metadata": {
  "kernelspec": {
   "display_name": "Python 3",
   "language": "python",
   "name": "python3"
  },
  "language_info": {
   "codemirror_mode": {
    "name": "ipython",
    "version": 3
   },
   "file_extension": ".py",
   "mimetype": "text/x-python",
   "name": "python",
   "nbconvert_exporter": "python",
   "pygments_lexer": "ipython3",
   "version": "3.11.9"
  }
 },
 "nbformat": 4,
 "nbformat_minor": 2
}

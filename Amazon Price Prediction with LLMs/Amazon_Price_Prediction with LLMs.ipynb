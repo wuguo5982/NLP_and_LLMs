{
 "cells": [
  {
   "cell_type": "markdown",
   "id": "a918ab89",
   "metadata": {},
   "source": []
  },
  {
   "cell_type": "markdown",
   "id": "e48d2023",
   "metadata": {},
   "source": [
    "### Introduction:\n",
    "This project focuses on price prediction for Amazon products across categories such as Automotive, Electronics, and Office Products. We employed large language models to analyze textual descriptions and fine-tuned our models using Weights & Biases (W&B) to predict commodity prices."
   ]
  },
  {
   "cell_type": "code",
   "execution_count": null,
   "id": "67cedf85-8125-4322-998e-9375fe745597",
   "metadata": {},
   "outputs": [
    {
     "name": "stderr",
     "output_type": "stream",
     "text": [
      "None of PyTorch, TensorFlow >= 2.0, or Flax have been found. Models won't be available and only tokenizers, configuration and file/data utilities can be used.\n"
     ]
    }
   ],
   "source": [
    "# imports\n",
    "\n",
    "import os\n",
    "import random\n",
    "from dotenv import load_dotenv\n",
    "from huggingface_hub import login\n",
    "from datasets import load_dataset, Dataset, DatasetDict\n",
    "from loaders import ItemLoader\n",
    "import matplotlib.pyplot as plt\n",
    "from collections import Counter, defaultdict\n",
    "import numpy as np\n",
    "import pickle\n",
    "import re\n",
    "import json\n",
    "import openai\n",
    "from items import Item\n",
    "from openai import OpenAI\n",
    "from testing import Tester\n",
    "%matplotlib inline"
   ]
  },
  {
   "cell_type": "code",
   "execution_count": 2,
   "id": "7390a6aa-79cb-4dea-b6d7-de7e4b13e472",
   "metadata": {},
   "outputs": [
    {
     "name": "stderr",
     "output_type": "stream",
     "text": [
      "Note: Environment variable`HF_TOKEN` is set and is the current active token independently from the token you've just configured.\n"
     ]
    }
   ],
   "source": [
    "# Environment\n",
    "\n",
    "load_dotenv(override=True)\n",
    "os.environ['OPENAI_API_KEY'] = os.getenv('OPENAI_API_KEY', 'your-key-if-not-using-env')\n",
    "os.environ['HF_TOKEN'] = os.getenv('HF_TOKEN', 'your-key-if-not-using-env')\n",
    "\n",
    "# Log in to HuggingFace\n",
    "hf_token = os.environ['HF_TOKEN']\n",
    "login(hf_token, add_to_git_credential=True)"
   ]
  },
  {
   "cell_type": "code",
   "execution_count": 3,
   "id": "5f9a33b4",
   "metadata": {},
   "outputs": [
    {
     "name": "stdout",
     "output_type": "stream",
     "text": [
      "Number of Appliances: 94,327\n",
      "(94327, 16)\n"
     ]
    }
   ],
   "source": [
    "dataset = load_dataset(\"McAuley-Lab/Amazon-Reviews-2023\", f\"raw_meta_Appliances\", split=\"full\", trust_remote_code=True)\n",
    "print(f\"Number of Appliances: {len(dataset):,}\")\n",
    "print(dataset.shape)"
   ]
  },
  {
   "cell_type": "code",
   "execution_count": 4,
   "id": "5d830c8c",
   "metadata": {},
   "outputs": [
    {
     "data": {
      "text/html": [
       "<div>\n",
       "<style scoped>\n",
       "    .dataframe tbody tr th:only-of-type {\n",
       "        vertical-align: middle;\n",
       "    }\n",
       "\n",
       "    .dataframe tbody tr th {\n",
       "        vertical-align: top;\n",
       "    }\n",
       "\n",
       "    .dataframe thead th {\n",
       "        text-align: right;\n",
       "    }\n",
       "</style>\n",
       "<table border=\"1\" class=\"dataframe\">\n",
       "  <thead>\n",
       "    <tr style=\"text-align: right;\">\n",
       "      <th></th>\n",
       "      <th>title</th>\n",
       "      <th>description</th>\n",
       "      <th>features</th>\n",
       "      <th>price</th>\n",
       "      <th>details</th>\n",
       "    </tr>\n",
       "  </thead>\n",
       "  <tbody>\n",
       "    <tr>\n",
       "      <th>0</th>\n",
       "      <td>ROVSUN Ice Maker Machine Countertop, Make 44lb...</td>\n",
       "      <td>[]</td>\n",
       "      <td>[【Quick Ice Making】This countertop ice machine...</td>\n",
       "      <td>None</td>\n",
       "      <td>{\"Brand\": \"ROVSUN\", \"Model Name\": \"ICM-2005\", ...</td>\n",
       "    </tr>\n",
       "    <tr>\n",
       "      <th>1</th>\n",
       "      <td>HANSGO Egg Holder for Refrigerator, Deviled Eg...</td>\n",
       "      <td>[]</td>\n",
       "      <td>[Plastic, Practical Kitchen Storage - Our egg ...</td>\n",
       "      <td>None</td>\n",
       "      <td>{\"Manufacturer\": \"HANSGO\", \"Part Number\": \"HAN...</td>\n",
       "    </tr>\n",
       "    <tr>\n",
       "      <th>2</th>\n",
       "      <td>Clothes Dryer Drum Slide, General Electric, Ho...</td>\n",
       "      <td>[Brand new dryer drum slide, replaces General ...</td>\n",
       "      <td>[]</td>\n",
       "      <td>None</td>\n",
       "      <td>{\"Manufacturer\": \"RPI\", \"Part Number\": \"WE1M33...</td>\n",
       "    </tr>\n",
       "    <tr>\n",
       "      <th>3</th>\n",
       "      <td>154567702 Dishwasher Lower Wash Arm Assembly f...</td>\n",
       "      <td>[MODEL NUMBER:154567702 Dishwasher Lower Wash ...</td>\n",
       "      <td>[MODEL NUMBER:154567702 Dishwasher Lower Wash ...</td>\n",
       "      <td>None</td>\n",
       "      <td>{\"Manufacturer\": \"folosem\", \"Part Number\": \"15...</td>\n",
       "    </tr>\n",
       "    <tr>\n",
       "      <th>4</th>\n",
       "      <td>Whirlpool W10918546 Igniter</td>\n",
       "      <td>[Whirlpool Igniter]</td>\n",
       "      <td>[This is a Genuine OEM Replacement Part.]</td>\n",
       "      <td>25.07</td>\n",
       "      <td>{\"Manufacturer\": \"Whirlpool\", \"Part Number\": \"...</td>\n",
       "    </tr>\n",
       "  </tbody>\n",
       "</table>\n",
       "</div>"
      ],
      "text/plain": [
       "                                               title  \\\n",
       "0  ROVSUN Ice Maker Machine Countertop, Make 44lb...   \n",
       "1  HANSGO Egg Holder for Refrigerator, Deviled Eg...   \n",
       "2  Clothes Dryer Drum Slide, General Electric, Ho...   \n",
       "3  154567702 Dishwasher Lower Wash Arm Assembly f...   \n",
       "4                        Whirlpool W10918546 Igniter   \n",
       "\n",
       "                                         description  \\\n",
       "0                                                 []   \n",
       "1                                                 []   \n",
       "2  [Brand new dryer drum slide, replaces General ...   \n",
       "3  [MODEL NUMBER:154567702 Dishwasher Lower Wash ...   \n",
       "4                                [Whirlpool Igniter]   \n",
       "\n",
       "                                            features  price  \\\n",
       "0  [【Quick Ice Making】This countertop ice machine...   None   \n",
       "1  [Plastic, Practical Kitchen Storage - Our egg ...   None   \n",
       "2                                                 []   None   \n",
       "3  [MODEL NUMBER:154567702 Dishwasher Lower Wash ...   None   \n",
       "4          [This is a Genuine OEM Replacement Part.]  25.07   \n",
       "\n",
       "                                             details  \n",
       "0  {\"Brand\": \"ROVSUN\", \"Model Name\": \"ICM-2005\", ...  \n",
       "1  {\"Manufacturer\": \"HANSGO\", \"Part Number\": \"HAN...  \n",
       "2  {\"Manufacturer\": \"RPI\", \"Part Number\": \"WE1M33...  \n",
       "3  {\"Manufacturer\": \"folosem\", \"Part Number\": \"15...  \n",
       "4  {\"Manufacturer\": \"Whirlpool\", \"Part Number\": \"...  "
      ]
     },
     "execution_count": 4,
     "metadata": {},
     "output_type": "execute_result"
    }
   ],
   "source": [
    "a = dataset.to_pandas()\n",
    "a[['title', \"description\",\"features\", \"price\", \"details\"]].head(5)"
   ]
  },
  {
   "cell_type": "code",
   "execution_count": 5,
   "id": "d942d4e5",
   "metadata": {},
   "outputs": [
    {
     "name": "stdout",
     "output_type": "stream",
     "text": [
      "There are 46,726 with prices which is 49.5%\n"
     ]
    }
   ],
   "source": [
    "# How many have prices?\n",
    "\n",
    "prices = 0\n",
    "for datapoint in dataset:\n",
    "    try:\n",
    "        price = float(datapoint[\"price\"])\n",
    "        if price > 0:\n",
    "            prices += 1\n",
    "    except ValueError as e:\n",
    "        pass\n",
    "\n",
    "print(f\"There are {prices:,} with prices which is {prices/len(dataset)*100:,.1f}%\")"
   ]
  },
  {
   "cell_type": "code",
   "execution_count": 6,
   "id": "fb94b482",
   "metadata": {},
   "outputs": [],
   "source": [
    "# For those with prices, gather the price and the length\n",
    "\n",
    "prices = []\n",
    "lengths = []\n",
    "for datapoint in dataset:\n",
    "    try:\n",
    "        price = float(datapoint[\"price\"])\n",
    "        if price > 0:\n",
    "            prices.append(price)\n",
    "            contents = datapoint[\"title\"] + str(datapoint[\"description\"]) + str(datapoint[\"features\"]) + str(datapoint[\"details\"])\n",
    "            lengths.append(len(contents))\n",
    "    except ValueError as e:\n",
    "        pass"
   ]
  },
  {
   "cell_type": "code",
   "execution_count": 7,
   "id": "edf61bb0",
   "metadata": {},
   "outputs": [
    {
     "data": {
      "image/png": "[encoded data removed]",
      "text/plain": [
       "<Figure size 1000x400 with 1 Axes>"
      ]
     },
     "metadata": {},
     "output_type": "display_data"
    }
   ],
   "source": [
    "# Plot the distribution of lengths\n",
    "\n",
    "plt.figure(figsize=(10, 4))\n",
    "plt.title(f\"Lengths: Avg {sum(lengths)/len(lengths):,.0f} and highest {max(lengths):,}\\n\")\n",
    "plt.xlabel('Length (chars)')\n",
    "plt.ylabel('Count')\n",
    "plt.hist(lengths, rwidth=0.7, color=\"blue\", bins=range(0, 6000, 100))\n",
    "plt.show()"
   ]
  },
  {
   "cell_type": "code",
   "execution_count": 8,
   "id": "049885d4-fdfa-4ff0-a932-4a2ed73928e2",
   "metadata": {},
   "outputs": [
    {
     "name": "stdout",
     "output_type": "stream",
     "text": [
      "Loading dataset Appliances\n"
     ]
    },
    {
     "name": "stderr",
     "output_type": "stream",
     "text": [
      "100%|██████████| 95/95 [00:22<00:00,  4.22it/s]\n"
     ]
    },
    {
     "name": "stdout",
     "output_type": "stream",
     "text": [
      "Completed Appliances with 27,500 datapoints in 0.4 mins\n"
     ]
    },
    {
     "data": {
      "text/plain": [
       "<Homa Yellow Flower Bouquet Floral Dishwasher Magnet，Green Border Accent with Lemons Sticker Refrigerator Magnetic Cover Panel Decal 23 W x 17 H = $34.99>"
      ]
     },
     "execution_count": 8,
     "metadata": {},
     "output_type": "execute_result"
    }
   ],
   "source": [
    "# Load in the same dataset as above\n",
    "items = ItemLoader(\"Appliances\").load()\n",
    "items[4]"
   ]
  },
  {
   "cell_type": "code",
   "execution_count": 9,
   "id": "ffba41b5-ddb6-4359-9790-9b2db900eee1",
   "metadata": {},
   "outputs": [
    {
     "name": "stdout",
     "output_type": "stream",
     "text": [
      "How much does this cost to the nearest dollar?\n",
      "\n",
      "door pivot block - compatible kenmore kitchenaid maytag whirlpool refrigerator - replaces - quick diy repair solution pivot block for vernicle mullion strip on door - a high - quality exact equivalent for part numbers and compatibility with major brands - door guide is compatible with whirlpool, amana, dacor, gaggenau, hardwick, jenn - air, kenmore, kitchenaid, and maytag. quick diy repair - refrigerator door guide pivot block replacement will help if your appliance door doesn ' t open or close. wear work gloves to protect your hands during the repair process. attentive support - if you are uncertain about whether the block fits your refrigerator, we will help. we generally put forth a valiant effort to\n",
      "\n",
      "Price is $17.00\n"
     ]
    }
   ],
   "source": [
    "# Sample\n",
    "print(items[1].prompt)"
   ]
  },
  {
   "cell_type": "code",
   "execution_count": 10,
   "id": "d1d06cd3-f3c2-44f0-a9f2-13b54ff8be5c",
   "metadata": {},
   "outputs": [],
   "source": [
    "# Extract 3 type due to expensive computation\n",
    "dataset_names = [\n",
    "    \"Automotive\",\n",
    "    \"Electronics\",\n",
    "    \"Office_Products\"]"
   ]
  },
  {
   "cell_type": "code",
   "execution_count": 11,
   "id": "aa8fd0f0-509a-4298-8fcc-e499a061e1be",
   "metadata": {},
   "outputs": [
    {
     "name": "stdout",
     "output_type": "stream",
     "text": [
      "Loading dataset Automotive\n"
     ]
    },
    {
     "name": "stderr",
     "output_type": "stream",
     "text": [
      "100%|██████████| 2004/2004 [11:20<00:00,  2.95it/s]\n"
     ]
    },
    {
     "name": "stdout",
     "output_type": "stream",
     "text": [
      "Completed Automotive with 870,795 datapoints in 11.6 mins\n",
      "Loading dataset Electronics\n"
     ]
    },
    {
     "name": "stderr",
     "output_type": "stream",
     "text": [
      "100%|██████████| 1611/1611 [06:56<00:00,  3.87it/s]\n"
     ]
    },
    {
     "name": "stdout",
     "output_type": "stream",
     "text": [
      "Completed Electronics with 431,703 datapoints in 7.1 mins\n",
      "Loading dataset Office_Products\n"
     ]
    },
    {
     "name": "stderr",
     "output_type": "stream",
     "text": [
      "100%|██████████| 711/711 [02:44<00:00,  4.33it/s]\n"
     ]
    },
    {
     "name": "stdout",
     "output_type": "stream",
     "text": [
      "Completed Office_Products with 231,387 datapoints in 2.8 mins\n",
      "A grand total of 1,533,885 items\n"
     ]
    }
   ],
   "source": [
    "items = []\n",
    "for dataset_name in dataset_names:\n",
    "    loader = ItemLoader(dataset_name)\n",
    "    items.extend(loader.load())\n",
    "\n",
    "print(f\"A grand total of {len(items):,} items\")"
   ]
  },
  {
   "cell_type": "code",
   "execution_count": 12,
   "id": "7805a7f1-4ad8-48f6-bea3-d64b64894804",
   "metadata": {},
   "outputs": [
    {
     "name": "stdout",
     "output_type": "stream",
     "text": [
      "There are 344,763 items in the sample\n"
     ]
    }
   ],
   "source": [
    "slots = defaultdict(list)\n",
    "for item in items:\n",
    "    slots[round(item.price)].append(item)\n",
    "\n",
    "\n",
    "np.random.seed(42)\n",
    "random.seed(42)\n",
    "sample = []\n",
    "for i in range(1, 1000):\n",
    "    slot = slots[i]\n",
    "    if i>=240:\n",
    "        sample.extend(slot)\n",
    "    elif len(slot) <= 1200:\n",
    "        sample.extend(slot)\n",
    "    else:\n",
    "        weights = np.array([1 if item.category=='Automotive' else 5 for item in slot])\n",
    "        weights = weights / np.sum(weights)\n",
    "        selected_indices = np.random.choice(len(slot), size=1200, replace=False, p=weights)\n",
    "        selected = [slot[i] for i in selected_indices]\n",
    "        sample.extend(selected)\n",
    "\n",
    "print(f\"There are {len(sample):,} items in the sample\")"
   ]
  },
  {
   "cell_type": "code",
   "execution_count": 13,
   "id": "30ae1453-b9fc-40db-8310-65d850c4b1da",
   "metadata": {},
   "outputs": [
    {
     "name": "stdout",
     "output_type": "stream",
     "text": [
      "How much does this cost to the nearest dollar?\n",
      "\n",
      "beck / arnley thermostat gasket beck / arnley parts meet foreign nameplate oe specifications for form, fit and function. our product specialists work with a network of global sourcing partners so you can install the right part with confidence. matches oe form, fit, and function high quality rubber or composite material designed to withstand high heat conditions quality construction for durability packaged in clear plastic for easy visibility and identification of all components application specific to ensure a correct fit for your vehicle manufacturer beck / arnley, brand beck / arnley, weight 0. 32 ounces, dimensions 4 x 1 x 6 inches, model number manufacturer part rank automotive automotive replacement engine thermostats 5256, available november 11, 2005\n",
      "\n",
      "Price is $1.00\n",
      "[2340, 1010, 2384, 3976, 2003, 1002, 1015, 1012, 4002, 102]\n",
      "['11', ',', '2005', 'price', 'is', '$', '1', '.', '00', '[SEP]']\n"
     ]
    }
   ],
   "source": [
    "def report(item):\n",
    "    prompt = item.prompt\n",
    "    tokens = Item.tokenizer.encode(item.prompt)\n",
    "    print(prompt)\n",
    "    print(tokens[-10:])\n",
    "    print(Item.tokenizer.batch_decode(tokens[-10:]))\n",
    "\n",
    "# Test\n",
    "report(sample[8])"
   ]
  },
  {
   "cell_type": "code",
   "execution_count": 14,
   "id": "3b163ca2-18ef-4c26-8e9d-88eb55f114f6",
   "metadata": {},
   "outputs": [
    {
     "name": "stdout",
     "output_type": "stream",
     "text": [
      "Divided into a training set of 40,000 items and test set of 200 items\n",
      "How much does this cost to the nearest dollar?\n",
      "\n",
      "gm genuine parts engine cooling fan clutch acdelco gm original equipment engine cooling fan clutches control the speed of the radiator fan based on the temperature of the air after it passes through the radiator fins. this original equipment engine cooling fan clutch is a gm - recommended replacement for your vehicle ’ s original components and has been manufactured to fit your gm vehicle, providing the same performance, durability, and service life you expect from general motors. quiets noisy cooling fans with stuck fan clutches, restores fuel economy gm - recommended replacement part for your gm vehicle ’ s original factory component offering the quality, reliability, and durability of gm oe manufactured to gm oe specification for fit, form, and function manufacturer acdelco, brand general motors, model clutch asm,\n",
      "\n",
      "Price is $212.00\n",
      "How much does this cost to the nearest dollar?\n",
      "\n",
      "regulatorfix window regulator repair clips ( 2 ) - front left ( driver side ) pair for vw passat ( b5, b5. 5, b6, b7 ) for those suffering from slow or stuck ( or down ) windows now the clip itself is available for your car. oem do not offer the clips for most models ; instead, you have to buy the complete regulator at high cost. the ' symptoms ' of broken clip - window moving slowly - slight tilt of the window on one side when going up - need help by hand to go up - window moving up slowly and reversing / going down. those are signs of a broken clip. chances are the 2nd clip breaks ( at which point the window stays down ), or the window motor burns out. not\n",
      "\n",
      "Price is $\n"
     ]
    }
   ],
   "source": [
    "# Train and test\n",
    "random.seed(42)\n",
    "random.shuffle(sample)\n",
    "train = sample[:400_00]\n",
    "test = sample[400_00:402_00]\n",
    "print(f\"Divided into a training set of {len(train):,} items and test set of {len(test):,} items\")\n",
    "print(train[1].prompt)\n",
    "print(test[1].test_prompt())"
   ]
  },
  {
   "cell_type": "code",
   "execution_count": 15,
   "id": "fa11b3e5-fcf4-4efc-a573-f6f67fec3e73",
   "metadata": {},
   "outputs": [],
   "source": [
    "train_prompts = [item.prompt for item in train]\n",
    "train_prices = [item.price for item in train]\n",
    "test_prompts = [item.test_prompt() for item in test]\n",
    "test_prices = [item.price for item in test]"
   ]
  },
  {
   "cell_type": "code",
   "execution_count": null,
   "id": "b020ab1b-7153-4e5f-b8a3-d5bc2fafb6df",
   "metadata": {},
   "outputs": [],
   "source": [
    "# Create a Dataset from the lists\n",
    "\n",
    "train_dataset = Dataset.from_dict({\"text\": train_prompts, \"price\": train_prices})\n",
    "test_dataset = Dataset.from_dict({\"text\": test_prompts, \"price\": test_prices})\n",
    "dataset = DatasetDict({\n",
    "    \"train\": train_dataset,\n",
    "    \"test\": test_dataset\n",
    "})\n",
    "\n",
    "# Save\n",
    "# with open('train.pkl', 'wb') as file:\n",
    "#     pickle.dump(train, file)\n",
    "\n",
    "# with open('test.pkl', 'wb') as file:\n",
    "#     pickle.dump(test, file)\n",
    "\n",
    "# # Load\n",
    "# with open('train.pkl', 'rb') as file:\n",
    "#     train = pickle.load(file)\n",
    "\n",
    "# with open('test.pkl', 'rb') as file:\n",
    "#     test = pickle.load(file)"
   ]
  },
  {
   "cell_type": "code",
   "execution_count": 81,
   "id": "7af05836",
   "metadata": {},
   "outputs": [],
   "source": [
    "# Write the test set to a CSV\n",
    "\n",
    "import csv\n",
    "with open('human_input.csv', 'w', encoding=\"utf-8\") as csvfile:\n",
    "    writer = csv.writer(csvfile)\n",
    "    for t in test[:200]:\n",
    "        writer.writerow([t.test_prompt(), 0])"
   ]
  },
  {
   "cell_type": "code",
   "execution_count": 18,
   "id": "44fe9157",
   "metadata": {},
   "outputs": [
    {
     "data": {
      "text/plain": [
       "250"
      ]
     },
     "execution_count": 18,
     "metadata": {},
     "output_type": "execute_result"
    }
   ],
   "source": [
    "human_predictions = []\n",
    "with open('human_output.csv', 'r', encoding=\"utf-8\") as csvfile:\n",
    "    reader = csv.reader(csvfile)\n",
    "    for row in reader:\n",
    "        human_predictions.append(float(row[1]))\n",
    "len(human_predictions)"
   ]
  },
  {
   "cell_type": "code",
   "execution_count": 19,
   "id": "46a0e5b4",
   "metadata": {},
   "outputs": [
    {
     "data": {
      "text/plain": [
       "[{'role': 'system',\n",
       "  'content': 'You estimate prices of items. Reply only with the price, no explanation'},\n",
       " {'role': 'user',\n",
       "  'content': 'How much does this cost?\\n\\n80 + flipped culture lessons for the spanish classroom our 80 + flipped culture lessons for spanish book helps teachers introduce students to spanish culture using lessons as out - of - class assignments or as in - class computer activities. these lessons are excellent tools for students to experience the spanish worldview. “ flipping ” is when the teacher no longer lectures but uses class time to work with the students. teachers use their time to interact with students and do more guided learning. flipping the classroom gives students a greater knowledge of spanish culture than ever before, as teachers will have additional time to teach vocabulary and grammar through in - class assignments. this book contains worksheets for the students to complete and bring to class for discussions. book contains a printable cd. ©2014. english, spanish. all levels. reprod'},\n",
       " {'role': 'assistant', 'content': 'Price is $'}]"
      ]
     },
     "execution_count": 19,
     "metadata": {},
     "output_type": "execute_result"
    }
   ],
   "source": [
    "def human_pricer(item):\n",
    "    idx = test.index(item)\n",
    "    return human_predictions[idx]\n",
    "\n",
    "\n",
    "def messages_for(item):\n",
    "    system_message = \"You estimate prices of items. Reply only with the price, no explanation\"\n",
    "    user_prompt = item.test_prompt().replace(\" to the nearest dollar\",\"\").replace(\"\\n\\nPrice is $\",\"\")\n",
    "    return [\n",
    "        {\"role\": \"system\", \"content\": system_message},\n",
    "        {\"role\": \"user\", \"content\": user_prompt},\n",
    "        {\"role\": \"assistant\", \"content\": \"Price is $\"}\n",
    "    ]\n",
    "\n",
    "# test\n",
    "messages_for(test[2])"
   ]
  },
  {
   "cell_type": "code",
   "execution_count": 20,
   "id": "b032a8aa",
   "metadata": {},
   "outputs": [
    {
     "data": {
      "text/plain": [
       "99.99"
      ]
     },
     "execution_count": 20,
     "metadata": {},
     "output_type": "execute_result"
    }
   ],
   "source": [
    "import re as re\n",
    "def get_price(s):\n",
    "    s = s.replace('$','').replace(',','')\n",
    "    match = re.search(r\"[-+]?\\d*\\.\\d+|\\d+\", s)\n",
    "    return float(match.group()) if match else 0\n",
    "\n",
    "get_price(\"The price is roughly $99.99 because blah blah\")"
   ]
  },
  {
   "cell_type": "code",
   "execution_count": 21,
   "id": "36301b77",
   "metadata": {},
   "outputs": [],
   "source": [
    "# Function for gpt-4o-mini\n",
    "\n",
    "def gpt_4o_mini(item):\n",
    "    response = openai.chat.completions.create(\n",
    "        model=\"gpt-4o-mini\", \n",
    "        messages=messages_for(item),\n",
    "        seed=42,\n",
    "        max_tokens=5\n",
    "    )\n",
    "    reply = response.choices[0].message.content\n",
    "    return get_price(reply)"
   ]
  },
  {
   "cell_type": "code",
   "execution_count": 57,
   "id": "81baece6",
   "metadata": {},
   "outputs": [
    {
     "name": "stdout",
     "output_type": "stream",
     "text": [
      "\u001b[91m1: Guess: $100.00 Truth: $286.39 Error: $186.39 SLE: 1.09 Item: Power Stop AR83078XPR Front Evolution Dr...\u001b[0m\n",
      "\u001b[92m2: Guess: $15.99 Truth: $1.99 Error: $14.00 SLE: 3.02 Item: RegulatorFix Window Regulator Repair Cli...\u001b[0m\n",
      "\u001b[92m3: Guess: $35.00 Truth: $45.99 Error: $10.99 SLE: 0.07 Item: 80+ Flipped Culture Lessons for the Span...\u001b[0m\n",
      "\u001b[93m4: Guess: $100.00 Truth: $175.00 Error: $75.00 SLE: 0.31 Item: APC UPS BE850M2, 850VA UPS Battery Backu...\u001b[0m\n",
      "\u001b[93m5: Guess: $150.00 Truth: $99.99 Error: $50.01 SLE: 0.16 Item: LG 24MK430H-B 24in Class (23.8in) IPS LE...\u001b[0m\n",
      "\u001b[93m6: Guess: $149.99 Truth: $194.95 Error: $44.96 SLE: 0.07 Item: 22-Inch Neon LED TV by Continu.us | Colo...\u001b[0m\n",
      "\u001b[93m7: Guess: $150.00 Truth: $84.00 Error: $66.00 SLE: 0.33 Item: NVIDIA Quadro K4000 3GB GDDR5 256-bit PC...\u001b[0m\n",
      "\u001b[92m8: Guess: $85.99 Truth: $64.99 Error: $21.00 SLE: 0.08 Item: TCMT Black Front Headlight Head Light La...\u001b[0m\n",
      "\u001b[93m9: Guess: $199.99 Truth: $305.15 Error: $105.16 SLE: 0.18 Item: PIAA 12-07210 RF Series Yellow 10\" SAE C...\u001b[0m\n",
      "\u001b[93m10: Guess: $119.99 Truth: $159.99 Error: $40.00 SLE: 0.08 Item: ePhoto Video Chromakey Green Screen ligh...\u001b[0m\n",
      "\u001b[92m11: Guess: $15.99 Truth: $35.06 Error: $19.07 SLE: 0.57 Item: 1 Inch Celebrating Teamwork Lapel Pin - ...\u001b[0m\n",
      "\u001b[92m12: Guess: $150.00 Truth: $164.99 Error: $14.99 SLE: 0.01 Item: Intel® Core™ i3-10300 Desktop Processor ...\u001b[0m\n",
      "\u001b[92m13: Guess: $10.99 Truth: $3.90 Error: $7.09 SLE: 0.80 Item: Beckson GH31-B1-U Shallow Series Recesse...\u001b[0m\n",
      "\u001b[91m14: Guess: $299.00 Truth: $209.30 Error: $89.70 SLE: 0.13 Item: Master & Dynamic MW08 True Wireless Earp...\u001b[0m\n",
      "\u001b[93m15: Guess: $65.99 Truth: $110.98 Error: $44.99 SLE: 0.26 Item: Chrome Inner Primary Covers For Harley T...\u001b[0m\n",
      "\u001b[93m16: Guess: $75.00 Truth: $118.43 Error: $43.43 SLE: 0.20 Item: SEM 28101 2.8 VOC Rust Shield - 1 Gallon\u001b[0m\n",
      "\u001b[92m17: Guess: $79.99 Truth: $67.99 Error: $12.00 SLE: 0.03 Item: Zalman Z1 Iceberg mATX Mini Tower Gaming...\u001b[0m\n",
      "\u001b[92m18: Guess: $75.99 Truth: $57.25 Error: $18.74 SLE: 0.08 Item: Bendix Fleet Metlok MKD786AFM Brake Pads\u001b[0m\n",
      "\u001b[91m19: Guess: $0.00 Truth: $299.92 Error: $299.92 SLE: 32.57 Item: GM Genuine Parts 21642 Radiator\u001b[0m\n",
      "\u001b[91m20: Guess: $379.99 Truth: $203.99 Error: $176.00 SLE: 0.38 Item: 2 pc Sixity XTA Rear Left Right Axle com...\u001b[0m\n",
      "\u001b[92m21: Guess: $12.99 Truth: $6.99 Error: $6.00 SLE: 0.31 Item: JacobsParts Garmin Nuvi GPS Windshield S...\u001b[0m\n",
      "\u001b[93m22: Guess: $139.99 Truth: $229.99 Error: $90.00 SLE: 0.24 Item: Marshall Kilburn II Portable Bluetooth S...\u001b[0m\n",
      "\u001b[92m23: Guess: $25.99 Truth: $47.99 Error: $22.00 SLE: 0.36 Item: TENQ Speaker Microphone for BaoFeng UV-9...\u001b[0m\n",
      "\u001b[92m24: Guess: $45.99 Truth: $28.50 Error: $17.49 SLE: 0.22 Item: The Packaging Wholesalers 6-78136 12-1/2...\u001b[0m\n",
      "\u001b[92m25: Guess: $199.99 Truth: $174.99 Error: $25.00 SLE: 0.02 Item: TAC Side Steps Fit 2002-2005 Ford Explor...\u001b[0m\n",
      "\u001b[93m26: Guess: $209.99 Truth: $282.95 Error: $72.96 SLE: 0.09 Item: Ricks 27-61115 Starter Motor\u001b[0m\n",
      "\u001b[92m27: Guess: $47.99 Truth: $45.59 Error: $2.40 SLE: 0.00 Item: HUAZI Poster Stand for Display Double-Si...\u001b[0m\n",
      "\u001b[92m28: Guess: $35.99 Truth: $46.31 Error: $10.32 SLE: 0.06 Item: Razo RA131A 'GT Advance 2' Silver/Black ...\u001b[0m\n",
      "\u001b[92m29: Guess: $200.00 Truth: $174.56 Error: $25.44 SLE: 0.02 Item: Tein SKP08-AUB00 S.Tech Lowering Spring ...\u001b[0m\n",
      "\u001b[92m30: Guess: $149.99 Truth: $122.99 Error: $27.00 SLE: 0.04 Item: 2002-2008 SX 65 SURGE Orange Senge Graph...\u001b[0m\n",
      "\u001b[92m31: Guess: $15.99 Truth: $7.69 Error: $8.30 SLE: 0.45 Item: Pursuestar TPU Remote Smart Key Cover Fo...\u001b[0m\n",
      "\u001b[92m32: Guess: $299.99 Truth: $341.43 Error: $41.44 SLE: 0.02 Item: Access Bed Covers TonnoSport 22050219 - ...\u001b[0m\n",
      "\u001b[91m33: Guess: $189.00 Truth: $489.38 Error: $300.38 SLE: 0.90 Item: Vixen Air 200 PSI Heavy Duty Suspension/...\u001b[0m\n",
      "\u001b[91m34: Guess: $250.00 Truth: $81.49 Error: $168.51 SLE: 1.24 Item: DELL Optiplex 3010 Desktop PC - Intel Co...\u001b[0m\n",
      "\u001b[93m35: Guess: $249.99 Truth: $199.99 Error: $50.00 SLE: 0.05 Item: Sony WF-1000XM3 True Wireless Noise-Canc...\u001b[0m\n",
      "\u001b[91m36: Guess: $65.00 Truth: $219.13 Error: $154.13 SLE: 1.45 Item: Genuine Honda 37260-RNA-A01 Oil Pressure...\u001b[0m\n",
      "\u001b[93m37: Guess: $699.99 Truth: $949.00 Error: $249.01 SLE: 0.09 Item: HP Envy x360 15.6\" FHD Touchscreen 2-in-...\u001b[0m\n",
      "\u001b[92m38: Guess: $150.00 Truth: $179.00 Error: $29.00 SLE: 0.03 Item: ULTRA RACING 2-Point Front Strut Tower B...\u001b[0m\n",
      "\u001b[93m39: Guess: $299.99 Truth: $399.00 Error: $99.01 SLE: 0.08 Item: Samsung Electronics Galaxy Watch Active2...\u001b[0m\n",
      "\u001b[93m40: Guess: $45.99 Truth: $114.99 Error: $69.00 SLE: 0.82 Item: 3 Layer All Weather SUV Automobile Car C...\u001b[0m\n",
      "\u001b[92m41: Guess: $179.99 Truth: $202.69 Error: $22.70 SLE: 0.01 Item: Max Advanced Brakes Premium OE (Original...\u001b[0m\n",
      "\u001b[92m42: Guess: $300.00 Truth: $307.57 Error: $7.57 SLE: 0.00 Item: AEM 21-734C Cold Air Intake System (Non-...\u001b[0m\n",
      "\u001b[92m43: Guess: $12.99 Truth: $15.99 Error: $3.00 SLE: 0.04 Item: [2PACK] Screen Protector for Lenovo Chro...\u001b[0m\n",
      "\u001b[92m44: Guess: $499.99 Truth: $579.00 Error: $79.01 SLE: 0.02 Item: Kenwood Excelon XR1000-1 Mono Digital Po...\u001b[0m\n",
      "\u001b[91m45: Guess: $65.99 Truth: $185.16 Error: $119.17 SLE: 1.04 Item: ACDelco GM Original Equipment D6247A Tur...\u001b[0m\n",
      "\u001b[92m46: Guess: $89.99 Truth: $110.99 Error: $21.00 SLE: 0.04 Item: 3D MAXpider 2008-2019 Dodge Grand Carava...\u001b[0m\n",
      "\u001b[91m47: Guess: $45.00 Truth: $182.40 Error: $137.40 SLE: 1.91 Item: Fuel Sender\u001b[0m\n",
      "\u001b[93m48: Guess: $150.00 Truth: $192.99 Error: $42.99 SLE: 0.06 Item: Shocks Struts,ECCPP Front Rear Shock Abs...\u001b[0m\n",
      "\u001b[92m49: Guess: $299.99 Truth: $264.98 Error: $35.01 SLE: 0.02 Item: Jabra Evolve 75 UC Stereo Wireless Bluet...\u001b[0m\n",
      "\u001b[92m50: Guess: $200.00 Truth: $174.89 Error: $25.11 SLE: 0.02 Item: Textured Pocket-Riveted Wheel Fender Fla...\u001b[0m\n"
     ]
    },
    {
     "data": {
      "image/png": "[encoded data removed]",
      "text/plain": [
       "<Figure size 1200x800 with 1 Axes>"
      ]
     },
     "metadata": {},
     "output_type": "display_data"
    }
   ],
   "source": [
    "\n",
    "Tester(gpt_4o_mini, data=test[:50], size=50).run()"
   ]
  },
  {
   "cell_type": "code",
   "execution_count": 58,
   "id": "f4eaee37",
   "metadata": {},
   "outputs": [
    {
     "name": "stdout",
     "output_type": "stream",
     "text": [
      "\u001b[91m1: Guess: $100.00 Truth: $286.39 Error: $186.39 SLE: 1.09 Item: Power Stop AR83078XPR Front Evolution Dr...\u001b[0m\n",
      "\u001b[92m2: Guess: $30.00 Truth: $1.99 Error: $28.01 SLE: 5.47 Item: RegulatorFix Window Regulator Repair Cli...\u001b[0m\n",
      "\u001b[92m3: Guess: $39.95 Truth: $45.99 Error: $6.04 SLE: 0.02 Item: 80+ Flipped Culture Lessons for the Span...\u001b[0m\n",
      "\u001b[93m4: Guess: $120.00 Truth: $175.00 Error: $55.00 SLE: 0.14 Item: APC UPS BE850M2, 850VA UPS Battery Backu...\u001b[0m\n",
      "\u001b[92m5: Guess: $109.99 Truth: $99.99 Error: $10.00 SLE: 0.01 Item: LG 24MK430H-B 24in Class (23.8in) IPS LE...\u001b[0m\n",
      "\u001b[93m6: Guess: $150.00 Truth: $194.95 Error: $44.95 SLE: 0.07 Item: 22-Inch Neon LED TV by Continu.us | Colo...\u001b[0m\n",
      "\u001b[93m7: Guess: $150.00 Truth: $84.00 Error: $66.00 SLE: 0.33 Item: NVIDIA Quadro K4000 3GB GDDR5 256-bit PC...\u001b[0m\n",
      "\u001b[92m8: Guess: $100.00 Truth: $64.99 Error: $35.01 SLE: 0.18 Item: TCMT Black Front Headlight Head Light La...\u001b[0m\n",
      "\u001b[92m9: Guess: $250.00 Truth: $305.15 Error: $55.15 SLE: 0.04 Item: PIAA 12-07210 RF Series Yellow 10\" SAE C...\u001b[0m\n",
      "\u001b[92m10: Guess: $180.00 Truth: $159.99 Error: $20.01 SLE: 0.01 Item: ePhoto Video Chromakey Green Screen ligh...\u001b[0m\n",
      "\u001b[92m11: Guess: $12.99 Truth: $35.06 Error: $22.07 SLE: 0.90 Item: 1 Inch Celebrating Teamwork Lapel Pin - ...\u001b[0m\n",
      "\u001b[92m12: Guess: $150.00 Truth: $164.99 Error: $14.99 SLE: 0.01 Item: Intel® Core™ i3-10300 Desktop Processor ...\u001b[0m\n",
      "\u001b[92m13: Guess: $13.99 Truth: $3.90 Error: $10.09 SLE: 1.25 Item: Beckson GH31-B1-U Shallow Series Recesse...\u001b[0m\n",
      "\u001b[91m14: Guess: $349.00 Truth: $209.30 Error: $139.70 SLE: 0.26 Item: Master & Dynamic MW08 True Wireless Earp...\u001b[0m\n",
      "\u001b[92m15: Guess: $80.00 Truth: $110.98 Error: $30.98 SLE: 0.10 Item: Chrome Inner Primary Covers For Harley T...\u001b[0m\n",
      "\u001b[92m16: Guess: $150.00 Truth: $118.43 Error: $31.57 SLE: 0.06 Item: SEM 28101 2.8 VOC Rust Shield - 1 Gallon\u001b[0m\n",
      "\u001b[92m17: Guess: $59.99 Truth: $67.99 Error: $8.00 SLE: 0.02 Item: Zalman Z1 Iceberg mATX Mini Tower Gaming...\u001b[0m\n",
      "\u001b[93m18: Guess: $110.00 Truth: $57.25 Error: $52.75 SLE: 0.42 Item: Bendix Fleet Metlok MKD786AFM Brake Pads\u001b[0m\n",
      "\u001b[91m19: Guess: $0.00 Truth: $299.92 Error: $299.92 SLE: 32.57 Item: GM Genuine Parts 21642 Radiator\u001b[0m\n",
      "\u001b[92m20: Guess: $200.00 Truth: $203.99 Error: $3.99 SLE: 0.00 Item: 2 pc Sixity XTA Rear Left Right Axle com...\u001b[0m\n",
      "\u001b[92m21: Guess: $12.99 Truth: $6.99 Error: $6.00 SLE: 0.31 Item: JacobsParts Garmin Nuvi GPS Windshield S...\u001b[0m\n",
      "\u001b[91m22: Guess: $129.99 Truth: $229.99 Error: $100.00 SLE: 0.32 Item: Marshall Kilburn II Portable Bluetooth S...\u001b[0m\n",
      "\u001b[92m23: Guess: $19.99 Truth: $47.99 Error: $28.00 SLE: 0.72 Item: TENQ Speaker Microphone for BaoFeng UV-9...\u001b[0m\n",
      "\u001b[92m24: Guess: $25.00 Truth: $28.50 Error: $3.50 SLE: 0.02 Item: The Packaging Wholesalers 6-78136 12-1/2...\u001b[0m\n",
      "\u001b[93m25: Guess: $250.00 Truth: $174.99 Error: $75.01 SLE: 0.13 Item: TAC Side Steps Fit 2002-2005 Ford Explor...\u001b[0m\n",
      "\u001b[91m26: Guess: $150.00 Truth: $282.95 Error: $132.95 SLE: 0.40 Item: Ricks 27-61115 Starter Motor\u001b[0m\n",
      "\u001b[92m27: Guess: $47.99 Truth: $45.59 Error: $2.40 SLE: 0.00 Item: HUAZI Poster Stand for Display Double-Si...\u001b[0m\n",
      "\u001b[92m28: Guess: $65.00 Truth: $46.31 Error: $18.69 SLE: 0.11 Item: Razo RA131A 'GT Advance 2' Silver/Black ...\u001b[0m\n",
      "\u001b[93m29: Guess: $230.00 Truth: $174.56 Error: $55.44 SLE: 0.08 Item: Tein SKP08-AUB00 S.Tech Lowering Spring ...\u001b[0m\n",
      "\u001b[93m30: Guess: $179.99 Truth: $122.99 Error: $57.00 SLE: 0.14 Item: 2002-2008 SX 65 SURGE Orange Senge Graph...\u001b[0m\n",
      "\u001b[92m31: Guess: $15.99 Truth: $7.69 Error: $8.30 SLE: 0.45 Item: Pursuestar TPU Remote Smart Key Cover Fo...\u001b[0m\n",
      "\u001b[93m32: Guess: $250.00 Truth: $341.43 Error: $91.43 SLE: 0.10 Item: Access Bed Covers TonnoSport 22050219 - ...\u001b[0m\n",
      "\u001b[91m33: Guess: $250.00 Truth: $489.38 Error: $239.38 SLE: 0.45 Item: Vixen Air 200 PSI Heavy Duty Suspension/...\u001b[0m\n",
      "\u001b[93m34: Guess: $150.00 Truth: $81.49 Error: $68.51 SLE: 0.37 Item: DELL Optiplex 3010 Desktop PC - Intel Co...\u001b[0m\n",
      "\u001b[91m35: Guess: $399.99 Truth: $199.99 Error: $200.00 SLE: 0.48 Item: Sony WF-1000XM3 True Wireless Noise-Canc...\u001b[0m\n",
      "\u001b[91m36: Guess: $30.00 Truth: $219.13 Error: $189.13 SLE: 3.84 Item: Genuine Honda 37260-RNA-A01 Oil Pressure...\u001b[0m\n",
      "\u001b[93m37: Guess: $750.00 Truth: $949.00 Error: $199.00 SLE: 0.06 Item: HP Envy x360 15.6\" FHD Touchscreen 2-in-...\u001b[0m\n",
      "\u001b[92m38: Guess: $150.00 Truth: $179.00 Error: $29.00 SLE: 0.03 Item: ULTRA RACING 2-Point Front Strut Tower B...\u001b[0m\n",
      "\u001b[93m39: Guess: $299.00 Truth: $399.00 Error: $100.00 SLE: 0.08 Item: Samsung Electronics Galaxy Watch Active2...\u001b[0m\n",
      "\u001b[93m40: Guess: $50.00 Truth: $114.99 Error: $64.99 SLE: 0.68 Item: 3 Layer All Weather SUV Automobile Car C...\u001b[0m\n",
      "\u001b[93m41: Guess: $250.00 Truth: $202.69 Error: $47.31 SLE: 0.04 Item: Max Advanced Brakes Premium OE (Original...\u001b[0m\n",
      "\u001b[92m42: Guess: $300.00 Truth: $307.57 Error: $7.57 SLE: 0.00 Item: AEM 21-734C Cold Air Intake System (Non-...\u001b[0m\n",
      "\u001b[92m43: Guess: $15.99 Truth: $15.99 Error: $0.00 SLE: 0.00 Item: [2PACK] Screen Protector for Lenovo Chro...\u001b[0m\n",
      "\u001b[93m44: Guess: $349.99 Truth: $579.00 Error: $229.01 SLE: 0.25 Item: Kenwood Excelon XR1000-1 Mono Digital Po...\u001b[0m\n",
      "\u001b[91m45: Guess: $50.00 Truth: $185.16 Error: $135.16 SLE: 1.68 Item: ACDelco GM Original Equipment D6247A Tur...\u001b[0m\n",
      "\u001b[92m46: Guess: $80.00 Truth: $110.99 Error: $30.99 SLE: 0.10 Item: 3D MAXpider 2008-2019 Dodge Grand Carava...\u001b[0m\n",
      "\u001b[92m47: Guess: $150.00 Truth: $182.40 Error: $32.40 SLE: 0.04 Item: Fuel Sender\u001b[0m\n",
      "\u001b[93m48: Guess: $139.99 Truth: $192.99 Error: $53.00 SLE: 0.10 Item: Shocks Struts,ECCPP Front Rear Shock Abs...\u001b[0m\n",
      "\u001b[92m49: Guess: $299.99 Truth: $264.98 Error: $35.01 SLE: 0.02 Item: Jabra Evolve 75 UC Stereo Wireless Bluet...\u001b[0m\n",
      "\u001b[93m50: Guess: $250.00 Truth: $174.89 Error: $75.11 SLE: 0.13 Item: Textured Pocket-Riveted Wheel Fender Fla...\u001b[0m\n"
     ]
    },
    {
     "data": {
      "image/png": "[encoded data removed]",
      "text/plain": [
       "<Figure size 1200x800 with 1 Axes>"
      ]
     },
     "metadata": {},
     "output_type": "display_data"
    }
   ],
   "source": [
    "def gpt_4o_frontier(item):\n",
    "    response = openai.chat.completions.create(\n",
    "        model=\"gpt-4o-2024-08-06\", \n",
    "        messages=messages_for(item),\n",
    "        seed=42,\n",
    "        max_tokens=5\n",
    "    )\n",
    "    reply = response.choices[0].message.content\n",
    "    return get_price(reply)\n",
    "\n",
    "Tester(gpt_4o_frontier, data=test[:50], size=50).run()"
   ]
  },
  {
   "cell_type": "markdown",
   "id": "7391304c",
   "metadata": {},
   "source": [
    "### Fine tune"
   ]
  },
  {
   "cell_type": "code",
   "execution_count": 60,
   "id": "73ec1e06",
   "metadata": {},
   "outputs": [],
   "source": [
    "fine_tune_train = train[:500]\n",
    "fine_tune_validation = train[500:550]\n",
    "\n",
    "\n",
    "def messages_for(item):\n",
    "    system_message = \"You estimate prices of items. Reply only with the price, no explanation\"\n",
    "    user_prompt = item.test_prompt().replace(\" to the nearest dollar\",\"\").replace(\"\\n\\nPrice is $\",\"\")\n",
    "    return [\n",
    "        {\"role\": \"system\", \"content\": system_message},\n",
    "        {\"role\": \"user\", \"content\": user_prompt},\n",
    "        {\"role\": \"assistant\", \"content\": f\"Price is ${item.price:.2f}\"}\n",
    "    ]\n",
    "\n",
    "def make_jsonl(items):\n",
    "    result = \"\"\n",
    "    for item in items:\n",
    "        messages = messages_for(item)\n",
    "        messages_str = json.dumps(messages)\n",
    "        result += '{\"messages\": ' + messages_str +'}\\n'\n",
    "    return result.strip()\n",
    "\n",
    "\n",
    "def write_jsonl(items, filename):\n",
    "    with open(filename, \"w\") as f:\n",
    "        jsonl = make_jsonl(items)\n",
    "        f.write(jsonl)"
   ]
  },
  {
   "cell_type": "code",
   "execution_count": 62,
   "id": "8e10acc2",
   "metadata": {},
   "outputs": [
    {
     "data": {
      "text/plain": [
       "FileObject(id='file-JdbJTwd8o4v1JxUnLvqGtU', bytes=491132, created_at=1743513201, filename='fine_tune_train.jsonl', object='file', purpose='fine-tune', status='processed', expires_at=None, status_details=None)"
      ]
     },
     "execution_count": 62,
     "metadata": {},
     "output_type": "execute_result"
    }
   ],
   "source": [
    "write_jsonl(fine_tune_train, \"fine_tune_train.jsonl\")\n",
    "write_jsonl(fine_tune_validation, \"fine_tune_validation.jsonl\")\n",
    "\n",
    "with open(\"fine_tune_train.jsonl\", \"rb\") as f:\n",
    "    train_file = openai.files.create(file=f, purpose=\"fine-tune\")\n",
    "\n",
    "train_file"
   ]
  },
  {
   "cell_type": "code",
   "execution_count": 64,
   "id": "a1fb30b7",
   "metadata": {},
   "outputs": [
    {
     "data": {
      "text/plain": [
       "FileObject(id='file-1DY8jbHer9QQxs4KgpAzGT', bytes=47779, created_at=1743513250, filename='fine_tune_validation.jsonl', object='file', purpose='fine-tune', status='processed', expires_at=None, status_details=None)"
      ]
     },
     "execution_count": 64,
     "metadata": {},
     "output_type": "execute_result"
    }
   ],
   "source": [
    "with open(\"fine_tune_validation.jsonl\", \"rb\") as f:\n",
    "    validation_file = openai.files.create(file=f, purpose=\"fine-tune\")\n",
    "\n",
    "validation_file"
   ]
  },
  {
   "cell_type": "markdown",
   "id": "5db85026",
   "metadata": {},
   "source": [
    "### Fine tune with Wandb.ai"
   ]
  },
  {
   "cell_type": "code",
   "execution_count": 65,
   "id": "573cac1e",
   "metadata": {},
   "outputs": [
    {
     "data": {
      "text/plain": [
       "FineTuningJob(id='ftjob-3KQKjN9y1C70p59RjMqQDnRf', created_at=1743513260, error=Error(code=None, message=None, param=None), fine_tuned_model=None, finished_at=None, hyperparameters=Hyperparameters(batch_size='auto', learning_rate_multiplier='auto', n_epochs=1), model='gpt-4o-mini-2024-07-18', object='fine_tuning.job', organization_id='org-aGAYhFScz4SWl6BTfNw89XY7', result_files=[], seed=42, status='validating_files', trained_tokens=None, training_file='file-JdbJTwd8o4v1JxUnLvqGtU', validation_file='file-1DY8jbHer9QQxs4KgpAzGT', estimated_finish=None, integrations=[FineTuningJobWandbIntegrationObject(type='wandb', wandb=FineTuningJobWandbIntegration(project='gpt-pricer', entity=None, name=None, tags=None, run_id='ftjob-3KQKjN9y1C70p59RjMqQDnRf'))], metadata=None, method=Method(dpo=None, supervised=MethodSupervised(hyperparameters=MethodSupervisedHyperparameters(batch_size='auto', learning_rate_multiplier='auto', n_epochs=1)), type='supervised'), user_provided_suffix='pricer')"
      ]
     },
     "execution_count": 65,
     "metadata": {},
     "output_type": "execute_result"
    }
   ],
   "source": [
    "wandb_integration = {\"type\": \"wandb\", \"wandb\": {\"project\": \"gpt-pricer\"}}\n",
    "\n",
    "openai.fine_tuning.jobs.create(\n",
    "    training_file=train_file.id,\n",
    "    validation_file=validation_file.id,\n",
    "    model=\"gpt-4o-mini-2024-07-18\",\n",
    "    seed=42,\n",
    "    hyperparameters={\"n_epochs\": 1},\n",
    "    integrations = [wandb_integration],\n",
    "    suffix=\"pricer\"\n",
    ")"
   ]
  },
  {
   "cell_type": "code",
   "execution_count": 66,
   "id": "da029727",
   "metadata": {},
   "outputs": [
    {
     "name": "stdout",
     "output_type": "stream",
     "text": [
      "ftjob-3KQKjN9y1C70p59RjMqQDnRf\n"
     ]
    },
    {
     "data": {
      "text/plain": [
       "[FineTuningJobEvent(id='ftevent-lIdQzbRfzaNRxpylrw8YBv3r', created_at=1743513260, level='info', message='Validating training file: file-JdbJTwd8o4v1JxUnLvqGtU and validation file: file-1DY8jbHer9QQxs4KgpAzGT', object='fine_tuning.job.event', data={}, type='message'),\n",
       " FineTuningJobEvent(id='ftevent-jeX27iLMhS7eJrDOfsCGvYVR', created_at=1743513260, level='info', message='Created fine-tuning job: ftjob-3KQKjN9y1C70p59RjMqQDnRf', object='fine_tuning.job.event', data={}, type='message')]"
      ]
     },
     "execution_count": 66,
     "metadata": {},
     "output_type": "execute_result"
    }
   ],
   "source": [
    "openai.fine_tuning.jobs.list(limit=1)\n",
    "\n",
    "job_id = openai.fine_tuning.jobs.list(limit=1).data[0].id\n",
    "print(job_id)\n",
    "\n",
    "openai.fine_tuning.jobs.retrieve(job_id)\n",
    "openai.fine_tuning.jobs.list_events(fine_tuning_job_id=job_id, limit=10).data"
   ]
  },
  {
   "cell_type": "code",
   "execution_count": 85,
   "id": "65f201d7",
   "metadata": {},
   "outputs": [
    {
     "name": "stdout",
     "output_type": "stream",
     "text": [
      "succeeded\n",
      "FineTuningJob(id='ftjob-3KQKjN9y1C70p59RjMqQDnRf', created_at=1743513260, error=Error(code=None, message=None, param=None), fine_tuned_model='ft:gpt-4o-mini-2024-07-18:personal:pricer:BHW8Z0ZB', finished_at=1743514810, hyperparameters=Hyperparameters(batch_size=1, learning_rate_multiplier=1.8, n_epochs=1), model='gpt-4o-mini-2024-07-18', object='fine_tuning.job', organization_id='org-aGAYhFScz4SWl6BTfNw89XY7', result_files=['file-BqZj2LMACVQnhvLktzy5rp'], seed=42, status='succeeded', trained_tokens=102097, training_file='file-JdbJTwd8o4v1JxUnLvqGtU', validation_file='file-1DY8jbHer9QQxs4KgpAzGT', estimated_finish=None, integrations=[FineTuningJobWandbIntegrationObject(type='wandb', wandb=FineTuningJobWandbIntegration(project='gpt-pricer', entity=None, name=None, tags=None, run_id='ftjob-3KQKjN9y1C70p59RjMqQDnRf'))], metadata=None, method=Method(dpo=None, supervised=MethodSupervised(hyperparameters=MethodSupervisedHyperparameters(batch_size=1, learning_rate_multiplier=1.8, n_epochs=1)), type='supervised'), user_provided_suffix='pricer')\n"
     ]
    }
   ],
   "source": [
    "job = openai.fine_tuning.jobs.retrieve(job_id)\n",
    "print(job.status)\n",
    "print(job)"
   ]
  },
  {
   "cell_type": "code",
   "execution_count": 86,
   "id": "fe1e1849",
   "metadata": {},
   "outputs": [
    {
     "data": {
      "text/plain": [
       "'ft:gpt-4o-mini-2024-07-18:personal:pricer:BHW8Z0ZB'"
      ]
     },
     "execution_count": 86,
     "metadata": {},
     "output_type": "execute_result"
    }
   ],
   "source": [
    "fine_tuned_model_name = openai.fine_tuning.jobs.retrieve(job_id).fine_tuned_model\n",
    "fine_tuned_model_name"
   ]
  },
  {
   "cell_type": "code",
   "execution_count": 87,
   "id": "b94faf8a",
   "metadata": {},
   "outputs": [],
   "source": [
    "# The prompt\n",
    "\n",
    "def messages_for(item):\n",
    "    system_message = \"You estimate prices of items. Reply only with the price, no explanation\"\n",
    "    user_prompt = item.test_prompt().replace(\" to the nearest dollar\",\"\").replace(\"\\n\\nPrice is $\",\"\")\n",
    "    return [\n",
    "        {\"role\": \"system\", \"content\": system_message},\n",
    "        {\"role\": \"user\", \"content\": user_prompt},\n",
    "        {\"role\": \"assistant\", \"content\": \"Price is $\"}\n",
    "    ]"
   ]
  },
  {
   "cell_type": "code",
   "execution_count": 88,
   "id": "835139e2",
   "metadata": {},
   "outputs": [
    {
     "data": {
      "text/plain": [
       "[{'role': 'system',\n",
       "  'content': 'You estimate prices of items. Reply only with the price, no explanation'},\n",
       " {'role': 'user',\n",
       "  'content': 'How much does this cost?\\n\\npower stop front evolution drilled & slotted rotor pair power stop drilled and slotted rotors give you the advantages of both drilled holes for cooling and slots to sweep away gas and dust. power stop rotors use only the finest blanks and feature g3000 grade castings from the best foundries. all drilled and slotted rotors ( except for hub rotor assemblies ) are silver zinc plated to resist rust. the drilled and slotted design is our most popular performance rotor for street and day track applications. drill holes keep brake rotors up to 180 degrees cooler slots keep a clear contact patch between the pad and the rotor increased braking performance look great behind custom ( or factory ) wheels manufacturer power stop, brand power stop, model power stop weight 55. 7 pounds, dimensions 15. 4 x'},\n",
       " {'role': 'assistant', 'content': 'Price is $'}]"
      ]
     },
     "execution_count": 88,
     "metadata": {},
     "output_type": "execute_result"
    }
   ],
   "source": [
    "messages_for(test[0])"
   ]
  },
  {
   "cell_type": "code",
   "execution_count": 89,
   "id": "59ba418d",
   "metadata": {},
   "outputs": [
    {
     "data": {
      "text/plain": [
       "99.99"
      ]
     },
     "execution_count": 89,
     "metadata": {},
     "output_type": "execute_result"
    }
   ],
   "source": [
    "def get_price(s):\n",
    "    s = s.replace('$','').replace(',','')\n",
    "    match = re.search(r\"[-+]?\\d*\\.\\d+|\\d+\", s)\n",
    "    return float(match.group()) if match else 0\n",
    "\n",
    "get_price(\"The price is roughly $99.99 because blah blah\")"
   ]
  },
  {
   "cell_type": "code",
   "execution_count": 90,
   "id": "b2b43c87",
   "metadata": {},
   "outputs": [],
   "source": [
    "# The function for gpt-4o-mini\n",
    "\n",
    "def gpt_fine_tuned(item):\n",
    "    response = openai.chat.completions.create(\n",
    "        model=fine_tuned_model_name, \n",
    "        messages=messages_for(item),\n",
    "        seed=42,\n",
    "        max_tokens=7\n",
    "    )\n",
    "    reply = response.choices[0].message.content\n",
    "    return get_price(reply)"
   ]
  },
  {
   "cell_type": "code",
   "execution_count": 91,
   "id": "afd1d4b0",
   "metadata": {},
   "outputs": [
    {
     "name": "stdout",
     "output_type": "stream",
     "text": [
      "286.39\n",
      "289.99\n"
     ]
    }
   ],
   "source": [
    "print(test[0].price)\n",
    "print(gpt_fine_tuned(test[0]))"
   ]
  },
  {
   "cell_type": "code",
   "execution_count": 92,
   "id": "c0114a73",
   "metadata": {},
   "outputs": [
    {
     "name": "stdout",
     "output_type": "stream",
     "text": [
      "\u001b[92m1: Guess: $289.99 Truth: $286.39 Error: $3.60 SLE: 0.00 Item: Power Stop AR83078XPR Front Evolution Dr...\u001b[0m\n",
      "\u001b[92m2: Guess: $14.65 Truth: $1.99 Error: $12.66 SLE: 2.74 Item: RegulatorFix Window Regulator Repair Cli...\u001b[0m\n",
      "\u001b[92m3: Guess: $49.00 Truth: $45.99 Error: $3.01 SLE: 0.00 Item: 80+ Flipped Culture Lessons for the Span...\u001b[0m\n",
      "\u001b[92m4: Guess: $179.99 Truth: $175.00 Error: $4.99 SLE: 0.00 Item: APC UPS BE850M2, 850VA UPS Battery Backu...\u001b[0m\n",
      "\u001b[92m5: Guess: $126.99 Truth: $99.99 Error: $27.00 SLE: 0.06 Item: LG 24MK430H-B 24in Class (23.8in) IPS LE...\u001b[0m\n",
      "\u001b[91m6: Guess: $367.99 Truth: $194.95 Error: $173.04 SLE: 0.40 Item: 22-Inch Neon LED TV by Continu.us | Colo...\u001b[0m\n",
      "\u001b[91m7: Guess: $817.29 Truth: $84.00 Error: $733.29 SLE: 5.13 Item: NVIDIA Quadro K4000 3GB GDDR5 256-bit PC...\u001b[0m\n",
      "\u001b[91m8: Guess: $193.95 Truth: $64.99 Error: $128.96 SLE: 1.17 Item: TCMT Black Front Headlight Head Light La...\u001b[0m\n",
      "\u001b[91m9: Guess: $127.22 Truth: $305.15 Error: $177.93 SLE: 0.76 Item: PIAA 12-07210 RF Series Yellow 10\" SAE C...\u001b[0m\n",
      "\u001b[91m10: Guess: $289.99 Truth: $159.99 Error: $130.00 SLE: 0.35 Item: ePhoto Video Chromakey Green Screen ligh...\u001b[0m\n",
      "\u001b[92m11: Guess: $7.95 Truth: $35.06 Error: $27.11 SLE: 1.94 Item: 1 Inch Celebrating Teamwork Lapel Pin - ...\u001b[0m\n",
      "\u001b[92m12: Guess: $143.99 Truth: $164.99 Error: $21.00 SLE: 0.02 Item: Intel® Core™ i3-10300 Desktop Processor ...\u001b[0m\n",
      "\u001b[93m13: Guess: $49.65 Truth: $3.90 Error: $45.75 SLE: 5.46 Item: Beckson GH31-B1-U Shallow Series Recesse...\u001b[0m\n",
      "\u001b[92m14: Guess: $249.99 Truth: $209.30 Error: $40.69 SLE: 0.03 Item: Master & Dynamic MW08 True Wireless Earp...\u001b[0m\n",
      "\u001b[92m15: Guess: $100.69 Truth: $110.98 Error: $10.29 SLE: 0.01 Item: Chrome Inner Primary Covers For Harley T...\u001b[0m\n",
      "\u001b[92m16: Guess: $143.99 Truth: $118.43 Error: $25.56 SLE: 0.04 Item: SEM 28101 2.8 VOC Rust Shield - 1 Gallon\u001b[0m\n",
      "\u001b[92m17: Guess: $69.99 Truth: $67.99 Error: $2.00 SLE: 0.00 Item: Zalman Z1 Iceberg mATX Mini Tower Gaming...\u001b[0m\n",
      "\u001b[92m18: Guess: $77.98 Truth: $57.25 Error: $20.73 SLE: 0.09 Item: Bendix Fleet Metlok MKD786AFM Brake Pads\u001b[0m\n",
      "\u001b[91m19: Guess: $156.66 Truth: $299.92 Error: $143.26 SLE: 0.42 Item: GM Genuine Parts 21642 Radiator\u001b[0m\n",
      "\u001b[92m20: Guess: $169.14 Truth: $203.99 Error: $34.85 SLE: 0.03 Item: 2 pc Sixity XTA Rear Left Right Axle com...\u001b[0m\n",
      "\u001b[92m21: Guess: $8.95 Truth: $6.99 Error: $1.96 SLE: 0.05 Item: JacobsParts Garmin Nuvi GPS Windshield S...\u001b[0m\n",
      "\u001b[91m22: Guess: $100.69 Truth: $229.99 Error: $129.30 SLE: 0.67 Item: Marshall Kilburn II Portable Bluetooth S...\u001b[0m\n",
      "\u001b[92m23: Guess: $19.98 Truth: $47.99 Error: $28.01 SLE: 0.72 Item: TENQ Speaker Microphone for BaoFeng UV-9...\u001b[0m\n",
      "\u001b[93m24: Guess: $78.14 Truth: $28.50 Error: $49.64 SLE: 0.97 Item: The Packaging Wholesalers 6-78136 12-1/2...\u001b[0m\n",
      "\u001b[91m25: Guess: $393.69 Truth: $174.99 Error: $218.70 SLE: 0.65 Item: TAC Side Steps Fit 2002-2005 Ford Explor...\u001b[0m\n",
      "\u001b[93m26: Guess: $194.47 Truth: $282.95 Error: $88.48 SLE: 0.14 Item: Ricks 27-61115 Starter Motor\u001b[0m\n",
      "\u001b[92m27: Guess: $65.69 Truth: $45.59 Error: $20.10 SLE: 0.13 Item: HUAZI Poster Stand for Display Double-Si...\u001b[0m\n",
      "\u001b[92m28: Guess: $66.47 Truth: $46.31 Error: $20.16 SLE: 0.13 Item: Razo RA131A 'GT Advance 2' Silver/Black ...\u001b[0m\n",
      "\u001b[91m29: Guess: $289.00 Truth: $174.56 Error: $114.44 SLE: 0.25 Item: Tein SKP08-AUB00 S.Tech Lowering Spring ...\u001b[0m\n",
      "\u001b[92m30: Guess: $128.66 Truth: $122.99 Error: $5.67 SLE: 0.00 Item: 2002-2008 SX 65 SURGE Orange Senge Graph...\u001b[0m\n",
      "\u001b[92m31: Guess: $23.99 Truth: $7.69 Error: $16.30 SLE: 1.12 Item: Pursuestar TPU Remote Smart Key Cover Fo...\u001b[0m\n",
      "\u001b[91m32: Guess: $499.98 Truth: $341.43 Error: $158.55 SLE: 0.14 Item: Access Bed Covers TonnoSport 22050219 - ...\u001b[0m\n",
      "\u001b[91m33: Guess: $188.82 Truth: $489.38 Error: $300.56 SLE: 0.90 Item: Vixen Air 200 PSI Heavy Duty Suspension/...\u001b[0m\n",
      "\u001b[91m34: Guess: $226.78 Truth: $81.49 Error: $145.29 SLE: 1.03 Item: DELL Optiplex 3010 Desktop PC - Intel Co...\u001b[0m\n",
      "\u001b[92m35: Guess: $174.00 Truth: $199.99 Error: $25.99 SLE: 0.02 Item: Sony WF-1000XM3 True Wireless Noise-Canc...\u001b[0m\n",
      "\u001b[91m36: Guess: $69.99 Truth: $219.13 Error: $149.14 SLE: 1.28 Item: Genuine Honda 37260-RNA-A01 Oil Pressure...\u001b[0m\n",
      "\u001b[91m37: Guess: $499.99 Truth: $949.00 Error: $449.01 SLE: 0.41 Item: HP Envy x360 15.6\" FHD Touchscreen 2-in-...\u001b[0m\n",
      "\u001b[92m38: Guess: $164.50 Truth: $179.00 Error: $14.50 SLE: 0.01 Item: ULTRA RACING 2-Point Front Strut Tower B...\u001b[0m\n",
      "\u001b[93m39: Guess: $279.95 Truth: $399.00 Error: $119.05 SLE: 0.12 Item: Samsung Electronics Galaxy Watch Active2...\u001b[0m\n",
      "\u001b[93m40: Guess: $47.99 Truth: $114.99 Error: $67.00 SLE: 0.74 Item: 3 Layer All Weather SUV Automobile Car C...\u001b[0m\n",
      "\u001b[92m41: Guess: $221.65 Truth: $202.69 Error: $18.96 SLE: 0.01 Item: Max Advanced Brakes Premium OE (Original...\u001b[0m\n",
      "\u001b[92m42: Guess: $276.99 Truth: $307.57 Error: $30.58 SLE: 0.01 Item: AEM 21-734C Cold Air Intake System (Non-...\u001b[0m\n",
      "\u001b[92m43: Guess: $13.90 Truth: $15.99 Error: $2.09 SLE: 0.02 Item: [2PACK] Screen Protector for Lenovo Chro...\u001b[0m\n",
      "\u001b[93m44: Guess: $393.69 Truth: $579.00 Error: $185.31 SLE: 0.15 Item: Kenwood Excelon XR1000-1 Mono Digital Po...\u001b[0m\n",
      "\u001b[91m45: Guess: $69.99 Truth: $185.16 Error: $115.17 SLE: 0.93 Item: ACDelco GM Original Equipment D6247A Tur...\u001b[0m\n",
      "\u001b[92m46: Guess: $127.99 Truth: $110.99 Error: $17.00 SLE: 0.02 Item: 3D MAXpider 2008-2019 Dodge Grand Carava...\u001b[0m\n",
      "\u001b[92m47: Guess: $188.82 Truth: $182.40 Error: $6.42 SLE: 0.00 Item: Fuel Sender\u001b[0m\n",
      "\u001b[93m48: Guess: $119.99 Truth: $192.99 Error: $73.00 SLE: 0.22 Item: Shocks Struts,ECCPP Front Rear Shock Abs...\u001b[0m\n",
      "\u001b[92m49: Guess: $239.99 Truth: $264.98 Error: $24.99 SLE: 0.01 Item: Jabra Evolve 75 UC Stereo Wireless Bluet...\u001b[0m\n",
      "\u001b[91m50: Guess: $299.99 Truth: $174.89 Error: $125.10 SLE: 0.29 Item: Textured Pocket-Riveted Wheel Fender Fla...\u001b[0m\n"
     ]
    },
    {
     "data": {
      "image/png": "[encoded data removed]",
      "text/plain": [
       "<Figure size 1200x800 with 1 Axes>"
      ]
     },
     "metadata": {},
     "output_type": "display_data"
    }
   ],
   "source": [
    "Tester(gpt_fine_tuned, data=test[:50], size=50).run()"
   ]
  },
  {
   "cell_type": "markdown",
   "id": "e505a6dc",
   "metadata": {},
   "source": [
    "### Summary:\n",
    "\n",
    "1. **Data Limitations:** Due to the large dataset and high computational cost, only a subset of the data was utilized for this analysis.\n",
    "2. **Fine-tuning Results:** Fine-tuning with Weights & Biases (W&B) resulted in some improvement in the results; however, further optimization with a larger dataset is necessary.\n",
    "3. **Acknowledgement and Purpose:** We greatly acknowledge Ed Donner for providing instruction on this exercise, which is intended for practice purposes only.\n"
   ]
  }
 ],
 "metadata": {
  "kernelspec": {
   "display_name": "Python 3",
   "language": "python",
   "name": "python3"
  },
  "language_info": {
   "codemirror_mode": {
    "name": "ipython",
    "version": 3
   },
   "file_extension": ".py",
   "mimetype": "text/x-python",
   "name": "python",
   "nbconvert_exporter": "python",
   "pygments_lexer": "ipython3",
   "version": "3.11.9"
  }
 },
 "nbformat": 4,
 "nbformat_minor": 5
}

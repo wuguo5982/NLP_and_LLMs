{
 "cells": [
  {
   "cell_type": "markdown",
   "id": "c25e5705-7078-4d4a-9fa2-8aaa528ffced",
   "metadata": {},
   "source": [
    "## **Introduction**\n",
    "\n",
    "In this project, we fine-tuned an open-source language model to predict product prices using the QLoRA approach. QLoRA enables efficient fine-tuning with reduced memory usage and fewer hyperparameters. The entire process was executed locally on a personal computer.\n"
   ]
  },
  {
   "cell_type": "code",
   "execution_count": 1,
   "id": "d8f77d73",
   "metadata": {},
   "outputs": [],
   "source": [
    "# !pip install -q datasets requests torch peft bitsandbytes transformers trl accelerate sentencepiece"
   ]
  },
  {
   "cell_type": "code",
   "execution_count": 2,
   "id": "157838e6",
   "metadata": {},
   "outputs": [],
   "source": [
    "import os\n",
    "import re\n",
    "import math\n",
    "from tqdm import tqdm\n",
    "from huggingface_hub import login\n",
    "import torch\n",
    "import transformers\n",
    "from transformers import AutoTokenizer, AutoModelForCausalLM, AutoTokenizer, BitsAndBytesConfig, TrainingArguments, set_seed\n",
    "from torch import float16\n",
    "from peft import LoraConfig, PeftModel\n",
    "from datetime import datetime\n",
    "from dotenv import load_dotenv\n",
    "from datasets import load_dataset, Dataset, DatasetDict\n",
    "import matplotlib.pyplot as plt"
   ]
  },
  {
   "cell_type": "code",
   "execution_count": 3,
   "id": "d94af0aa",
   "metadata": {},
   "outputs": [
    {
     "name": "stdout",
     "output_type": "stream",
     "text": [
      "True\n",
      "1\n",
      "Quadro RTX 4000\n"
     ]
    }
   ],
   "source": [
    "import torch\n",
    "print(torch.cuda.is_available())\n",
    "print(torch.cuda.device_count())\n",
    "print(torch.cuda.get_device_name(0) if torch.cuda.is_available() and torch.cuda.device_count() > 0 else \"No CUDA device available\")"
   ]
  },
  {
   "cell_type": "code",
   "execution_count": 4,
   "id": "32805713",
   "metadata": {},
   "outputs": [
    {
     "data": {
      "text/html": [
       "<div>\n",
       "<style scoped>\n",
       "    .dataframe tbody tr th:only-of-type {\n",
       "        vertical-align: middle;\n",
       "    }\n",
       "\n",
       "    .dataframe tbody tr th {\n",
       "        vertical-align: top;\n",
       "    }\n",
       "\n",
       "    .dataframe thead th {\n",
       "        text-align: right;\n",
       "    }\n",
       "</style>\n",
       "<table border=\"1\" class=\"dataframe\">\n",
       "  <thead>\n",
       "    <tr style=\"text-align: right;\">\n",
       "      <th></th>\n",
       "      <th>main_category</th>\n",
       "      <th>title</th>\n",
       "      <th>average_rating</th>\n",
       "      <th>rating_number</th>\n",
       "      <th>features</th>\n",
       "      <th>description</th>\n",
       "      <th>price</th>\n",
       "      <th>images</th>\n",
       "      <th>videos</th>\n",
       "      <th>store</th>\n",
       "      <th>categories</th>\n",
       "      <th>details</th>\n",
       "      <th>parent_asin</th>\n",
       "      <th>bought_together</th>\n",
       "      <th>subtitle</th>\n",
       "      <th>author</th>\n",
       "    </tr>\n",
       "  </thead>\n",
       "  <tbody>\n",
       "    <tr>\n",
       "      <th>0</th>\n",
       "      <td>Industrial &amp; Scientific</td>\n",
       "      <td>ROVSUN Ice Maker Machine Countertop, Make 44lb...</td>\n",
       "      <td>3.7</td>\n",
       "      <td>61</td>\n",
       "      <td>[【Quick Ice Making】This countertop ice machine...</td>\n",
       "      <td>[]</td>\n",
       "      <td>None</td>\n",
       "      <td>{'hi_res': ['https://m.media-amazon.com/images...</td>\n",
       "      <td>{'title': ['Our Point of View on the Euhomy Ic...</td>\n",
       "      <td>ROVSUN</td>\n",
       "      <td>[Appliances, Refrigerators, Freezers &amp; Ice Mak...</td>\n",
       "      <td>{\"Brand\": \"ROVSUN\", \"Model Name\": \"ICM-2005\", ...</td>\n",
       "      <td>B08Z743RRD</td>\n",
       "      <td>None</td>\n",
       "      <td>None</td>\n",
       "      <td>None</td>\n",
       "    </tr>\n",
       "    <tr>\n",
       "      <th>1</th>\n",
       "      <td>Tools &amp; Home Improvement</td>\n",
       "      <td>HANSGO Egg Holder for Refrigerator, Deviled Eg...</td>\n",
       "      <td>4.2</td>\n",
       "      <td>75</td>\n",
       "      <td>[Plastic, Practical Kitchen Storage - Our egg ...</td>\n",
       "      <td>[]</td>\n",
       "      <td>None</td>\n",
       "      <td>{'hi_res': ['https://m.media-amazon.com/images...</td>\n",
       "      <td>{'title': ['10 Eggs Egg Holder for Refrigerato...</td>\n",
       "      <td>HANSGO</td>\n",
       "      <td>[Appliances, Parts &amp; Accessories, Refrigerator...</td>\n",
       "      <td>{\"Manufacturer\": \"HANSGO\", \"Part Number\": \"HAN...</td>\n",
       "      <td>B097BQDGHJ</td>\n",
       "      <td>None</td>\n",
       "      <td>None</td>\n",
       "      <td>None</td>\n",
       "    </tr>\n",
       "  </tbody>\n",
       "</table>\n",
       "</div>"
      ],
      "text/plain": [
       "              main_category  \\\n",
       "0   Industrial & Scientific   \n",
       "1  Tools & Home Improvement   \n",
       "\n",
       "                                               title  average_rating  \\\n",
       "0  ROVSUN Ice Maker Machine Countertop, Make 44lb...             3.7   \n",
       "1  HANSGO Egg Holder for Refrigerator, Deviled Eg...             4.2   \n",
       "\n",
       "   rating_number                                           features  \\\n",
       "0             61  [【Quick Ice Making】This countertop ice machine...   \n",
       "1             75  [Plastic, Practical Kitchen Storage - Our egg ...   \n",
       "\n",
       "  description price                                             images  \\\n",
       "0          []  None  {'hi_res': ['https://m.media-amazon.com/images...   \n",
       "1          []  None  {'hi_res': ['https://m.media-amazon.com/images...   \n",
       "\n",
       "                                              videos   store  \\\n",
       "0  {'title': ['Our Point of View on the Euhomy Ic...  ROVSUN   \n",
       "1  {'title': ['10 Eggs Egg Holder for Refrigerato...  HANSGO   \n",
       "\n",
       "                                          categories  \\\n",
       "0  [Appliances, Refrigerators, Freezers & Ice Mak...   \n",
       "1  [Appliances, Parts & Accessories, Refrigerator...   \n",
       "\n",
       "                                             details parent_asin  \\\n",
       "0  {\"Brand\": \"ROVSUN\", \"Model Name\": \"ICM-2005\", ...  B08Z743RRD   \n",
       "1  {\"Manufacturer\": \"HANSGO\", \"Part Number\": \"HAN...  B097BQDGHJ   \n",
       "\n",
       "  bought_together subtitle author  \n",
       "0            None     None   None  \n",
       "1            None     None   None  "
      ]
     },
     "execution_count": 4,
     "metadata": {},
     "output_type": "execute_result"
    }
   ],
   "source": [
    "# Samples\n",
    "usedata = load_dataset(\"McAuley-Lab/Amazon-Reviews-2023\", f\"raw_meta_Appliances\", split=\"full\", trust_remote_code=True)\n",
    "usedata.to_pandas().head(2)"
   ]
  },
  {
   "cell_type": "code",
   "execution_count": 5,
   "id": "05be4a7a",
   "metadata": {},
   "outputs": [
    {
     "name": "stderr",
     "output_type": "stream",
     "text": [
      "Note: Environment variable`HF_TOKEN` is set and is the current active token independently from the token you've just configured.\n"
     ]
    }
   ],
   "source": [
    "## Env\n",
    "load_dotenv(override=True)\n",
    "os.environ['OPENAI_API_KEY'] = os.getenv('OPENAI_API_KEY', 'your-key-if-not-using-env')\n",
    "os.environ['HF_TOKEN'] = os.getenv('HF_TOKEN', 'your-key-if-not-using-env')\n",
    "\n",
    "# Log in to HuggingFace\n",
    "hf_token = os.environ['HF_TOKEN']\n",
    "login(hf_token, add_to_git_credential=True)"
   ]
  },
  {
   "cell_type": "code",
   "execution_count": 6,
   "id": "0f6ee50e",
   "metadata": {},
   "outputs": [],
   "source": [
    "# Model\n",
    "BASE_MODEL = \"TinyLlama/TinyLlama-1.1B-Chat-v1.0\"           # Lightweight open-source chat model\n",
    "FINETUNED_MODEL = f\"ed-donner/pricer-2024-09-13_13.04.39\""
   ]
  },
  {
   "cell_type": "code",
   "execution_count": 7,
   "id": "7499bea9",
   "metadata": {},
   "outputs": [
    {
     "name": "stdout",
     "output_type": "stream",
     "text": [
      "meta-llama/Meta-Llama-3.1-8B\n"
     ]
    }
   ],
   "source": [
    "from peft import PeftConfig\n",
    "config = PeftConfig.from_pretrained(\"ed-donner/pricer-2024-09-13_13.04.39\")\n",
    "print(config.base_model_name_or_path)"
   ]
  },
  {
   "cell_type": "code",
   "execution_count": null,
   "id": "957197ce",
   "metadata": {},
   "outputs": [
    {
     "name": "stdout",
     "output_type": "stream",
     "text": [
      "Memory footprint: 1.2 GB\n"
     ]
    }
   ],
   "source": [
    "# Load the base model in 8-bit precision using the defined quantization configuration.\n",
    "\n",
    "quant_config = BitsAndBytesConfig(load_in_8bit=True)\n",
    "base_model = AutoModelForCausalLM.from_pretrained(\n",
    "    BASE_MODEL,\n",
    "    trust_remote_code=True,\n",
    "    quantization_config=quant_config,\n",
    "    device_map=\"auto\",\n",
    ")\n",
    "\n",
    "print(f\"Memory footprint: {base_model.get_memory_footprint() / 1e9:,.1f} GB\")"
   ]
  },
  {
   "cell_type": "code",
   "execution_count": 9,
   "id": "2d453fcb",
   "metadata": {},
   "outputs": [
    {
     "data": {
      "text/plain": [
       "LlamaForCausalLM(\n",
       "  (model): LlamaModel(\n",
       "    (embed_tokens): Embedding(32000, 2048)\n",
       "    (layers): ModuleList(\n",
       "      (0-21): 22 x LlamaDecoderLayer(\n",
       "        (self_attn): LlamaAttention(\n",
       "          (q_proj): Linear8bitLt(in_features=2048, out_features=2048, bias=False)\n",
       "          (k_proj): Linear8bitLt(in_features=2048, out_features=256, bias=False)\n",
       "          (v_proj): Linear8bitLt(in_features=2048, out_features=256, bias=False)\n",
       "          (o_proj): Linear8bitLt(in_features=2048, out_features=2048, bias=False)\n",
       "        )\n",
       "        (mlp): LlamaMLP(\n",
       "          (gate_proj): Linear8bitLt(in_features=2048, out_features=5632, bias=False)\n",
       "          (up_proj): Linear8bitLt(in_features=2048, out_features=5632, bias=False)\n",
       "          (down_proj): Linear8bitLt(in_features=5632, out_features=2048, bias=False)\n",
       "          (act_fn): SiLU()\n",
       "        )\n",
       "        (input_layernorm): LlamaRMSNorm((2048,), eps=1e-05)\n",
       "        (post_attention_layernorm): LlamaRMSNorm((2048,), eps=1e-05)\n",
       "      )\n",
       "    )\n",
       "    (norm): LlamaRMSNorm((2048,), eps=1e-05)\n",
       "    (rotary_emb): LlamaRotaryEmbedding()\n",
       "  )\n",
       "  (lm_head): Linear(in_features=2048, out_features=32000, bias=False)\n",
       ")"
      ]
     },
     "execution_count": 9,
     "metadata": {},
     "output_type": "execute_result"
    }
   ],
   "source": [
    "base_model"
   ]
  },
  {
   "cell_type": "code",
   "execution_count": null,
   "id": "e0d45054",
   "metadata": {},
   "outputs": [
    {
     "name": "stdout",
     "output_type": "stream",
     "text": [
      "Memory footprint: 0.75 GB\n"
     ]
    }
   ],
   "source": [
    "# Load the base model in 4-bit precision using the defined quantization configuration.\n",
    "\n",
    "BASE_MODEL = \"TinyLlama/TinyLlama-1.1B-Chat-v1.0\"\n",
    "\n",
    "quant_config = BitsAndBytesConfig(\n",
    "    load_in_4bit=True,\n",
    "    bnb_4bit_use_double_quant=True,\n",
    "    bnb_4bit_compute_dtype=torch.bfloat16,\n",
    "    bnb_4bit_quant_type=\"nf4\")\n",
    "\n",
    "base_model = AutoModelForCausalLM.from_pretrained(\n",
    "    BASE_MODEL,\n",
    "    trust_remote_code=True,            ##\n",
    "    quantization_config=quant_config,\n",
    "    device_map=\"auto\",\n",
    ")\n",
    "print(f\"Memory footprint: {base_model.get_memory_footprint() / 1e9:,.2f} GB\")"
   ]
  },
  {
   "cell_type": "code",
   "execution_count": 11,
   "id": "3cf13fac",
   "metadata": {},
   "outputs": [
    {
     "data": {
      "text/plain": [
       "LlamaForCausalLM(\n",
       "  (model): LlamaModel(\n",
       "    (embed_tokens): Embedding(32000, 2048)\n",
       "    (layers): ModuleList(\n",
       "      (0-21): 22 x LlamaDecoderLayer(\n",
       "        (self_attn): LlamaAttention(\n",
       "          (q_proj): Linear4bit(in_features=2048, out_features=2048, bias=False)\n",
       "          (k_proj): Linear4bit(in_features=2048, out_features=256, bias=False)\n",
       "          (v_proj): Linear4bit(in_features=2048, out_features=256, bias=False)\n",
       "          (o_proj): Linear4bit(in_features=2048, out_features=2048, bias=False)\n",
       "        )\n",
       "        (mlp): LlamaMLP(\n",
       "          (gate_proj): Linear4bit(in_features=2048, out_features=5632, bias=False)\n",
       "          (up_proj): Linear4bit(in_features=2048, out_features=5632, bias=False)\n",
       "          (down_proj): Linear4bit(in_features=5632, out_features=2048, bias=False)\n",
       "          (act_fn): SiLU()\n",
       "        )\n",
       "        (input_layernorm): LlamaRMSNorm((2048,), eps=1e-05)\n",
       "        (post_attention_layernorm): LlamaRMSNorm((2048,), eps=1e-05)\n",
       "      )\n",
       "    )\n",
       "    (norm): LlamaRMSNorm((2048,), eps=1e-05)\n",
       "    (rotary_emb): LlamaRotaryEmbedding()\n",
       "  )\n",
       "  (lm_head): Linear(in_features=2048, out_features=32000, bias=False)\n",
       ")"
      ]
     },
     "execution_count": 11,
     "metadata": {},
     "output_type": "execute_result"
    }
   ],
   "source": [
    "base_model"
   ]
  },
  {
   "cell_type": "code",
   "execution_count": 12,
   "id": "a1436c81",
   "metadata": {},
   "outputs": [
    {
     "name": "stdout",
     "output_type": "stream",
     "text": [
      "Total number of params: 27,262,976 and size 109.1MB\n"
     ]
    }
   ],
   "source": [
    "# Hyperparameters for QLoRA Fine-Tuning\n",
    "LORA_R = 32\n",
    "LORA_ALPHA = 64\n",
    "TARGET_MODULES = [\"q_proj\", \"v_proj\", \"k_proj\", \"o_proj\"]\n",
    "\n",
    "lora_q_proj = 4096 * 32 + 4096 * 32      # Number of weights\n",
    "lora_k_proj = 4096 * 32 + 1024 * 32\n",
    "lora_v_proj = 4096 * 32 + 1024 * 32\n",
    "lora_o_proj = 4096 * 32 + 4096 * 32\n",
    "\n",
    "lora_layer = lora_q_proj + lora_k_proj + lora_v_proj + lora_o_proj  # Each layer \n",
    "params = lora_layer * 32\n",
    "\n",
    "size = (params * 4) / 1_000_000            # Total size\n",
    "print(f\"Total number of params: {params:,} and size {size:,.1f}MB\")"
   ]
  },
  {
   "cell_type": "code",
   "execution_count": 13,
   "id": "2caba31f",
   "metadata": {},
   "outputs": [],
   "source": [
    "# BASE_MODEL = \"meta-llama/Meta-Llama-3.1-8B\"\n",
    "BASE_MODEL = \"TinyLlama/TinyLlama-1.1B-Chat-v1.0\"\n",
    "HF_USER = \"ed-donner\"\n",
    "DATASET_NAME = f\"{HF_USER}/pricer-data\"\n",
    "MAX_SEQUENCE_LENGTH = 182\n",
    "QUANT_4_BIT = True\n",
    "\n",
    "## color for output\n",
    "GREEN = \"\\033[92m\"\n",
    "YELLOW = \"\\033[93m\"\n",
    "RED = \"\\033[91m\"\n",
    "RESET = \"\\033[0m\"\n",
    "COLOR_MAP = {\"red\":RED, \"orange\": YELLOW, \"green\": GREEN}"
   ]
  },
  {
   "cell_type": "code",
   "execution_count": 14,
   "id": "e78e92ea",
   "metadata": {},
   "outputs": [],
   "source": [
    "def investigate_tokenizer(model_name):\n",
    "  print(\"Investigating tokenizer for\", model_name)\n",
    "  tokenizer = AutoTokenizer.from_pretrained(model_name, trust_remote_code=True)\n",
    "  for number in [0, 1, 10, 100, 999, 1000]:\n",
    "    tokens = tokenizer.encode(str(number), add_special_tokens=False)\n",
    "    print(f\"The tokens for {number}: {tokens}\")"
   ]
  },
  {
   "cell_type": "code",
   "execution_count": 15,
   "id": "a3b84fcd",
   "metadata": {},
   "outputs": [
    {
     "data": {
      "text/plain": [
       "{'text': 'How much does this cost to the nearest dollar?\\n\\nHorror Bookmarks, Resin Horror Bookmarks for Adults, The Best Gift for Fans of Horror Novels, Horror Personalized Bookmarks for Men Women, Horror Figures Sculpture Bookmarks (Set)\\nHorror Bookmarks - The Best Gift for Fans of Horror Novels, Resin Horror Bookmarks for Adults, Half-Length Figure Sculpture Bookmarks, Horror Bookmark Set for Men Women Office Supplies Specification Upper Part Material Resin Lower Part Of Material Wood Character Size 3.3cm x 2cm / x Overall Size 10cm / 4inch Package Includes 1 / 6 x Horror bookmarks - the best gift for fans of horror novels Note 1. Due to manual measurements, please allow slight measurement deviations. 2. Due to the different display and lighting effects, the\\n\\nPrice is $',\n",
       " 'price': 31.99}"
      ]
     },
     "execution_count": 15,
     "metadata": {},
     "output_type": "execute_result"
    }
   ],
   "source": [
    "dataset = load_dataset(DATASET_NAME)\n",
    "train = dataset['train']\n",
    "test = dataset['test']\n",
    "test[5]"
   ]
  },
  {
   "cell_type": "code",
   "execution_count": null,
   "id": "2202c021",
   "metadata": {},
   "outputs": [],
   "source": [
    "## Choose the right quantization (4 bits or 8 bits)\n",
    "\n",
    "if QUANT_4_BIT:\n",
    "  quant_config = BitsAndBytesConfig(\n",
    "    load_in_4bit=True,\n",
    "    bnb_4bit_use_double_quant=True,\n",
    "    bnb_4bit_compute_dtype=torch.bfloat16,\n",
    "    bnb_4bit_quant_type=\"nf4\"\n",
    "  )\n",
    "else:\n",
    "  quant_config = BitsAndBytesConfig(\n",
    "    load_in_8bit=True,\n",
    "    bnb_8bit_compute_dtype=torch.bfloat16\n",
    "  )"
   ]
  },
  {
   "cell_type": "code",
   "execution_count": 17,
   "id": "e1519049",
   "metadata": {},
   "outputs": [
    {
     "name": "stderr",
     "output_type": "stream",
     "text": [
      "Note: Environment variable`HF_TOKEN` is set and is the current active token independently from the token you've just configured.\n"
     ]
    },
    {
     "name": "stdout",
     "output_type": "stream",
     "text": [
      "Memory footprint: 0.7 GB\n"
     ]
    }
   ],
   "source": [
    "# Log in to HuggingFace\n",
    "\n",
    "hf_token = os.environ['HF_TOKEN']\n",
    "login(hf_token, add_to_git_credential=True)\n",
    "\n",
    "# Define base model path\n",
    "BASE_MODEL = \"TinyLlama/TinyLlama-1.1B-Chat-v1.0\"\n",
    "\n",
    "# Load the tokenizer\n",
    "tokenizer = AutoTokenizer.from_pretrained(BASE_MODEL, trust_remote_code=True)\n",
    "tokenizer.pad_token = tokenizer.eos_token\n",
    "tokenizer.padding_side = \"right\"\n",
    "\n",
    "# Load the model with quantization and device map\n",
    "base_model = AutoModelForCausalLM.from_pretrained(\n",
    "    BASE_MODEL,\n",
    "    trust_remote_code=True,   \n",
    "    quantization_config=quant_config,\n",
    "    device_map=\"auto\",\n",
    ")\n",
    "\n",
    "# Set pad_token_id for generation\n",
    "base_model.generation_config.pad_token_id = tokenizer.pad_token_id\n",
    "\n",
    "# Print GPU memory usage\n",
    "print(f\"Memory footprint: {base_model.get_memory_footprint() / 1e9:.1f} GB\")"
   ]
  },
  {
   "cell_type": "code",
   "execution_count": 18,
   "id": "9a321b82",
   "metadata": {},
   "outputs": [
    {
     "data": {
      "text/plain": [
       "999.0"
      ]
     },
     "execution_count": 18,
     "metadata": {},
     "output_type": "execute_result"
    }
   ],
   "source": [
    "def extract_price(s):\n",
    "    if \"Price is $\" in s:\n",
    "      contents = s.split(\"Price is $\")[1]\n",
    "      contents = contents.replace(',','').replace('$','')\n",
    "      match = re.search(r\"[-+]?\\d*\\.\\d+|\\d+\", contents)\n",
    "      return float(match.group()) if match else 0\n",
    "    return 0\n",
    "\n",
    "extract_price(\"Price is $999 blah blah so cheap\")"
   ]
  },
  {
   "cell_type": "code",
   "execution_count": 19,
   "id": "50a55aee",
   "metadata": {},
   "outputs": [
    {
     "data": {
      "text/plain": [
       "10.0"
      ]
     },
     "execution_count": 19,
     "metadata": {},
     "output_type": "execute_result"
    }
   ],
   "source": [
    "def model_predict(prompt):\n",
    "    set_seed(42)\n",
    "    inputs = tokenizer.encode(prompt, return_tensors=\"pt\").to(\"cuda\")\n",
    "    attention_mask = torch.ones(inputs.shape, device=\"cuda\")\n",
    "    outputs = base_model.generate(inputs, max_new_tokens=4, attention_mask=attention_mask, num_return_sequences=1)\n",
    "    response = tokenizer.decode(outputs[0])\n",
    "    return extract_price(response)\n",
    "\n",
    "model_predict(test[1]['text'])"
   ]
  },
  {
   "cell_type": "code",
   "execution_count": 22,
   "id": "b816527a",
   "metadata": {},
   "outputs": [
    {
     "name": "stdout",
     "output_type": "stream",
     "text": [
      "\u001b[93m1: Guess: $199.00 Truth: $374.41 Error: $175.41 SLE: 0.40 Item: OEM AC Compressor w/...\u001b[0m\n",
      "\u001b[91m2: Guess: $10.00 Truth: $225.11 Error: $215.11 SLE: 9.14 Item: Motorcraft YB3125 Fa...\u001b[0m\n",
      "\u001b[92m3: Guess: $10.90 Truth: $61.68 Error: $50.78 SLE: 2.76 Item: Dorman Front Washer ...\u001b[0m\n",
      "\u001b[93m4: Guess: $199.00 Truth: $599.99 Error: $400.99 SLE: 1.21 Item: HP Premium HD Plus T...\u001b[0m\n",
      "\u001b[92m5: Guess: $19.90 Truth: $16.99 Error: $2.91 SLE: 0.02 Item: Super Switch Pickup ...\u001b[0m\n",
      "\u001b[92m6: Guess: $10.00 Truth: $31.99 Error: $21.99 SLE: 1.21 Item: Horror Bookmarks, Re...\u001b[0m\n",
      "\u001b[93m7: Guess: $199.00 Truth: $101.79 Error: $97.21 SLE: 0.44 Item: SK6241 - Stinger 4 G...\u001b[0m\n",
      "\u001b[93m8: Guess: $129.00 Truth: $289.00 Error: $160.00 SLE: 0.64 Item: Godox ML60Bi LED Lig...\u001b[0m\n",
      "\u001b[93m9: Guess: $129.00 Truth: $635.86 Error: $506.86 SLE: 2.52 Item: Randall G3 Plus Comb...\u001b[0m\n",
      "\u001b[92m10: Guess: $129.00 Truth: $65.99 Error: $63.01 SLE: 0.44 Item: HOLDWILL 6 Pack LED ...\u001b[0m\n",
      "\u001b[93m11: Guess: $129.00 Truth: $254.21 Error: $125.21 SLE: 0.46 Item: Viking Horns 3 Gallo...\u001b[0m\n",
      "\u001b[93m12: Guess: $100.00 Truth: $412.99 Error: $312.99 SLE: 1.99 Item: CURT 70110 Custom To...\u001b[0m\n",
      "\u001b[91m13: Guess: $19.90 Truth: $205.50 Error: $185.60 SLE: 5.25 Item: Solar HAMMERED BRONZ...\u001b[0m\n",
      "\u001b[92m14: Guess: $199.00 Truth: $248.23 Error: $49.23 SLE: 0.05 Item: COSTWAY Electric Tum...\u001b[0m\n",
      "\u001b[93m15: Guess: $199.00 Truth: $399.00 Error: $200.00 SLE: 0.48 Item: FREE SIGNAL TV Trans...\u001b[0m\n",
      "\u001b[93m16: Guess: $109.00 Truth: $373.94 Error: $264.94 SLE: 1.50 Item: Bilstein 5100 Monotu...\u001b[0m\n",
      "\u001b[93m17: Guess: $199.00 Truth: $92.89 Error: $106.11 SLE: 0.57 Item: Sangean K-200 Multi-...\u001b[0m\n",
      "\u001b[93m18: Guess: $199.00 Truth: $51.99 Error: $147.01 SLE: 1.76 Item: Charles Leonard Magn...\u001b[0m\n",
      "\u001b[92m19: Guess: $100.00 Truth: $179.00 Error: $79.00 SLE: 0.33 Item: Gigabyte AMD Radeon ...\u001b[0m\n",
      "\u001b[92m20: Guess: $1.99 Truth: $19.42 Error: $17.43 SLE: 3.69 Item: 3dRose LLC 8 x 8 x 0...\u001b[0m\n",
      "\u001b[91m21: Guess: $106.00 Truth: $539.95 Error: $433.95 SLE: 2.63 Item: ROKINON 85mm F1.4 Au...\u001b[0m\n",
      "\u001b[93m22: Guess: $10.90 Truth: $147.67 Error: $136.77 SLE: 6.38 Item: Headlight Assembly C...\u001b[0m\n",
      "\u001b[92m23: Guess: $19.90 Truth: $24.99 Error: $5.09 SLE: 0.05 Item: ASI NAUTICAL 2.5 Inc...\u001b[0m\n",
      "\u001b[92m24: Guess: $100.00 Truth: $149.00 Error: $49.00 SLE: 0.16 Item: Behringer TUBE OVERD...\u001b[0m\n",
      "\u001b[92m25: Guess: $19.90 Truth: $16.99 Error: $2.91 SLE: 0.02 Item: Fun Express Insect F...\u001b[0m\n",
      "\u001b[92m26: Guess: $1.99 Truth: $7.99 Error: $6.00 SLE: 1.21 Item: WAFJAMF Roller Stamp...\u001b[0m\n",
      "\u001b[92m27: Guess: $189.00 Truth: $199.99 Error: $10.99 SLE: 0.00 Item: Capulina Tiffany Flo...\u001b[0m\n",
      "\u001b[93m28: Guess: $399.00 Truth: $251.45 Error: $147.55 SLE: 0.21 Item: Apple Watch Series 6...\u001b[0m\n",
      "\u001b[91m29: Guess: $14.90 Truth: $231.62 Error: $216.72 SLE: 7.20 Item: ICON 01725 Tandem Ax...\u001b[0m\n",
      "\u001b[93m30: Guess: $19.90 Truth: $135.00 Error: $115.10 SLE: 3.51 Item: SanDisk 128GB Ultra ...\u001b[0m\n",
      "\u001b[91m31: Guess: $7,154.00 Truth: $356.62 Error: $6,797.38 SLE: 8.98 Item: Velvac - 715427\n",
      "2020...\u001b[0m\n",
      "\u001b[93m32: Guess: $100.00 Truth: $257.99 Error: $157.99 SLE: 0.89 Item: TCMT Passenger Backr...\u001b[0m\n",
      "\u001b[92m33: Guess: $63.50 Truth: $27.99 Error: $35.51 SLE: 0.64 Item: Alnicov 63.5MM Brass...\u001b[0m\n",
      "\u001b[91m34: Guess: $1.00 Truth: $171.20 Error: $170.20 SLE: 19.85 Item: Subaru Forester Outb...\u001b[0m\n",
      "\u001b[93m35: Guess: $129.00 Truth: $225.00 Error: $96.00 SLE: 0.31 Item: Richmond Auto Uphols...\u001b[0m\n",
      "\u001b[93m36: Guess: $10.90 Truth: $105.00 Error: $94.10 SLE: 4.78 Item: AP-39 Automotive Pai...\u001b[0m\n",
      "\u001b[92m37: Guess: $199.00 Truth: $299.99 Error: $100.99 SLE: 0.17 Item: Road Top Wireless Ca...\u001b[0m\n",
      "\u001b[93m38: Guess: $119.00 Truth: $535.09 Error: $416.09 SLE: 2.24 Item: Gibson Performance E...\u001b[0m\n",
      "\u001b[92m39: Guess: $19.90 Truth: $12.33 Error: $7.57 SLE: 0.20 Item: Bella Tunno Happy Li...\u001b[0m\n",
      "\u001b[93m40: Guess: $199.00 Truth: $84.99 Error: $114.01 SLE: 0.71 Item: CANMORE H300 Handhel...\u001b[0m\n",
      "\u001b[92m41: Guess: $19.90 Truth: $15.99 Error: $3.91 SLE: 0.04 Item: DCPOWER AC Adapter C...\u001b[0m\n",
      "\u001b[93m42: Guess: $199.00 Truth: $62.44 Error: $136.56 SLE: 1.32 Item: Sharp, Commercial De...\u001b[0m\n",
      "\u001b[92m43: Guess: $19.90 Truth: $82.99 Error: $63.09 SLE: 1.93 Item: Melissa & Doug Lifel...\u001b[0m\n",
      "\u001b[91m44: Guess: $100.00 Truth: $599.95 Error: $499.95 SLE: 3.18 Item: Sony SSCS8 2-Way Cen...\u001b[0m\n",
      "\u001b[92m45: Guess: $199.00 Truth: $194.99 Error: $4.01 SLE: 0.00 Item: ASUS Chromebook CX1,...\u001b[0m\n",
      "\u001b[93m46: Guess: $199.00 Truth: $344.95 Error: $145.95 SLE: 0.30 Item: FiiO X7 32GB Hi-Res ...\u001b[0m\n",
      "\u001b[91m47: Guess: $199.00 Truth: $37.99 Error: $161.01 SLE: 2.67 Item: TORRO Leather Case C...\u001b[0m\n",
      "\u001b[93m48: Guess: $119.00 Truth: $224.35 Error: $105.35 SLE: 0.40 Item: Universal Air Condit...\u001b[0m\n",
      "\u001b[91m49: Guess: $129.00 Truth: $814.00 Error: $685.00 SLE: 3.37 Item: Street Series Stainl...\u001b[0m\n",
      "\u001b[93m50: Guess: $149.00 Truth: $439.88 Error: $290.88 SLE: 1.16 Item: Lenovo IdeaPad 3 Lap...\u001b[0m\n"
     ]
    },
    {
     "data": {
      "image/png": "[encoded data removed]",
      "text/plain": [
       "<Figure size 800x500 with 1 Axes>"
      ]
     },
     "metadata": {},
     "output_type": "display_data"
    }
   ],
   "source": [
    "# E Evaluation\n",
    "\n",
    "class Tester:\n",
    "\n",
    "    def __init__(self, predictor, data, title=None, size=250):\n",
    "        self.predictor = predictor\n",
    "        self.data = data\n",
    "        self.title = title or predictor.__name__.replace(\"_\", \" \").title()\n",
    "        self.size = size\n",
    "        self.guesses = []\n",
    "        self.truths = []\n",
    "        self.errors = []\n",
    "        self.sles = []\n",
    "        self.colors = []\n",
    "\n",
    "    def color_for(self, error, truth):\n",
    "        if error<80 or error/truth < 0.4:\n",
    "            return \"green\"\n",
    "        elif error<150 or error/truth < 0.8:\n",
    "            return \"orange\"\n",
    "        else:\n",
    "            return \"red\"\n",
    "\n",
    "    def run_datapoint(self, i):\n",
    "        datapoint = self.data[i]\n",
    "        guess = self.predictor(datapoint[\"text\"])\n",
    "        truth = datapoint[\"price\"]\n",
    "        error = abs(guess - truth)\n",
    "        log_error = math.log(truth+1) - math.log(guess+1)\n",
    "        sle = log_error ** 2\n",
    "        color = self.color_for(error, truth)\n",
    "        title = datapoint[\"text\"].split(\"\\n\\n\")[1][:20] + \"...\"\n",
    "        self.guesses.append(guess)\n",
    "        self.truths.append(truth)\n",
    "        self.errors.append(error)\n",
    "        self.sles.append(sle)\n",
    "        self.colors.append(color)\n",
    "        print(f\"{COLOR_MAP[color]}{i+1}: Guess: ${guess:,.2f} Truth: ${truth:,.2f} Error: ${error:,.2f} SLE: {sle:,.2f} Item: {title}{RESET}\")\n",
    "\n",
    "    def chart(self, title):\n",
    "        max_error = max(self.errors)\n",
    "        plt.figure(figsize=(8, 5))\n",
    "        max_val = max(max(self.truths), max(self.guesses))\n",
    "        plt.plot([0, max_val], [0, max_val], color='deepskyblue', lw=2, alpha=0.6)\n",
    "        plt.scatter(self.truths, self.guesses, s=3, c=self.colors)\n",
    "        plt.xlabel('Ground Truth')\n",
    "        plt.ylabel('Model Estimate')\n",
    "        plt.xlim(0, max_val)\n",
    "        plt.ylim(0, max_val)\n",
    "        plt.title(title)\n",
    "        plt.show()\n",
    "\n",
    "    def report(self):\n",
    "        average_error = sum(self.errors) / self.size\n",
    "        rmsle = math.sqrt(sum(self.sles) / self.size)\n",
    "        hits = sum(1 for color in self.colors if color==\"green\")\n",
    "        title = f\"{self.title} Error=${average_error:,.2f} RMSLE={rmsle:,.2f} Hits={hits/self.size*100:.1f}%\"\n",
    "        self.chart(title)\n",
    "\n",
    "    def run(self):\n",
    "        self.error = 0\n",
    "        for i in range(self.size):\n",
    "            self.run_datapoint(i)\n",
    "        self.report()\n",
    "\n",
    "    @classmethod\n",
    "    def test(cls, function, data):\n",
    "        cls(function, data).run()\n",
    "\n",
    "\n",
    "Tester(predictor=model_predict, data=test, size=50).run()"
   ]
  },
  {
   "cell_type": "markdown",
   "id": "862c373b",
   "metadata": {},
   "source": [
    "## Summary\n",
    "\n",
    "1. **Data Limitations & Lightweight Base Model**  \n",
    "   Due to the large dataset size and high computational demands, we utilized a limited data sample and a lightweight open-source model for this analysis, executed on a local machine.\n",
    "\n",
    "2. **Fine-Tuning Results**  \n",
    "   The QLoRA fine-tuning approach achieved modest improvements while reducing memory usage and minimizing the need for extensive hyperparameter tuning. However, further optimization with a larger dataset and more powerful LLMs is recommended to improve performance.\n",
    "\n",
    "3. **Acknowledgment & Purpose**  \n",
    "   We gratefully acknowledge Ed Donner for his guidance on this exercise. This project was conducted solely for educational and practice purposes."
   ]
  }
 ],
 "metadata": {
  "kernelspec": {
   "display_name": "Python 3",
   "language": "python",
   "name": "python3"
  },
  "language_info": {
   "codemirror_mode": {
    "name": "ipython",
    "version": 3
   },
   "file_extension": ".py",
   "mimetype": "text/x-python",
   "name": "python",
   "nbconvert_exporter": "python",
   "pygments_lexer": "ipython3",
   "version": "3.11.9"
  }
 },
 "nbformat": 4,
 "nbformat_minor": 5
}
